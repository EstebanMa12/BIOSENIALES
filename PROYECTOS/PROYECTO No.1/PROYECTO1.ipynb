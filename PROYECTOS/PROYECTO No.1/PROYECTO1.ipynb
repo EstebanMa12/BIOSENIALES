{
 "cells": [
  {
   "cell_type": "markdown",
   "id": "0ee331af",
   "metadata": {
    "id": "0ee331af"
   },
   "source": [
    "## PROYECTO No. 1 BIOSEÑALES\n",
    "\n",
    "* Esteban Maya CC. 1004540273"
   ]
  },
  {
   "cell_type": "code",
   "execution_count": 1,
   "id": "fd8874ed",
   "metadata": {
    "id": "fd8874ed"
   },
   "outputs": [],
   "source": [
    "import numpy as np\n",
    "import matplotlib.pyplot as plt\n",
    "import pandas as pd\n",
    "import glob\n",
    "import scipy.io as sio\n",
    "from scipy.stats import shapiro, levene, mannwhitneyu"
   ]
  },
  {
   "cell_type": "code",
   "execution_count": null,
   "id": "ad845dce",
   "metadata": {
    "id": "ad845dce",
    "outputId": "f9277862-fde3-4092-bfc6-2dbe4baa2747"
   },
   "outputs": [
    {
     "name": "stdout",
     "output_type": "stream",
     "text": [
      "Hay 36 sujetos de control\n",
      "Hay 23 sujetos de parkinson\n"
     ]
    }
   ],
   "source": [
    "archivos_control = glob.glob('./control/*.mat') # Creación de lista en donde estan todos los archivos .mat de control\n",
    "archivos_parkinson = glob.glob('./parkinson/*.mat')# Creación de lista en donde estan todos los archivos .mat de parkinson\n",
    "print('Hay ' + str(len(archivos_control)) + ' sujetos de control')\n",
    "print('Hay ' + str(len(archivos_parkinson)) + ' sujetos de parkinson')"
   ]
  },
  {
   "cell_type": "markdown",
   "id": "2caa8b43",
   "metadata": {
    "id": "2caa8b43"
   },
   "source": [
    "### 1. Crear una función que reciba una señal de EEG y permita calcular la densidad espectral de potencia para la señal EEG. \n",
    "---\n"
   ]
  },
  {
   "cell_type": "code",
   "execution_count": null,
   "id": "b56d125e",
   "metadata": {
    "id": "b56d125e"
   },
   "outputs": [],
   "source": [
    "def calcular_PSD(signal_EEG): # definición de la función \n",
    "\"Cálculo de la densidad espectral de potencia para datos de eeg unidimensionales   \"\n",
    "    N = len(signal_EEG)\n",
    "    wn= 0.42-0.5*np.cos(2*np.pi*np.arange(N)/(N-1))\n",
    "    xn_wn= signal_EEG*wn\n",
    "    sk=[]\n",
    "    for k in range(N): # El rango esta dado para toda la longitud de la señal (2000 puntos )\n",
    "        s = np.sum(xn_wn * np.exp(-2*np.pi*1j*np.arange(N)*k/N))\n",
    "        sk.append((np.abs(s)**2)/N)\n",
    "    return sk"
   ]
  },
  {
   "cell_type": "code",
   "execution_count": null,
   "id": "bd601065",
   "metadata": {
    "id": "bd601065",
    "outputId": "272a6407-6019-4d07-af9f-8773f245dde9"
   },
   "outputs": [
    {
     "data": {
      "text/plain": [
       "[<matplotlib.lines.Line2D at 0x1f08d5d3340>]"
      ]
     },
     "execution_count": 16,
     "metadata": {},
     "output_type": "execute_result"
    },
    {
     "data": {
      "image/png": "[encoded data removed]",
      "text/plain": [
       "<Figure size 640x480 with 1 Axes>"
      ]
     },
     "metadata": {},
     "output_type": "display_data"
    }
   ],
   "source": [
    "N=len(canal1)\n",
    "v=np.arange(N)\n",
    "\n",
    "plt.plot(v,psd)"
   ]
  },
  {
   "cell_type": "markdown",
   "id": "2940d813",
   "metadata": {
    "id": "2940d813"
   },
   "source": [
    "### 2. Crear una función que reciba una señal EEG de múltiples épocas, un canal, y devuelva la sumatoria de densidad espectral de potencia, para el rango de frecuencia de 13 a 30 Hz, del promedio de la densidad espectral de potencia de las diferentes épocas de la señal de análisis\n"
   ]
  },
  {
   "cell_type": "code",
   "execution_count": null,
   "id": "6d833664",
   "metadata": {
    "id": "6d833664"
   },
   "outputs": [],
   "source": [
    "prueba=sio.loadmat(archivos_control[0]) # Carga de datos de prueba, se carga el primer sujeto \n",
    "data_c=prueba['data']; # carga de solo los datos\n",
    "data_control=data_c.copy() # creación de una copia \n",
    "canal1=data_control[0] # Un canal con multiples epocas \n",
    "\n",
    "psd=calcular_PSD2(canal1[:,0])\n"
   ]
  },
  {
   "cell_type": "code",
   "execution_count": null,
   "id": "f3b6032a",
   "metadata": {
    "id": "f3b6032a"
   },
   "outputs": [],
   "source": [
    "def calcular_PSD2(signal_EEG): # Creación de una función que calcula la densidad espectral de potencia en una frecuencia determinada \n",
    "    N = len(signal_EEG)\n",
    "    wn= 0.42-0.5*np.cos(2*np.pi*np.arange(N)/(N-1))\n",
    "    xn_wn= signal_EEG*wn\n",
    "    sk=[]\n",
    "    for k in np.arange(26,61): # Frecuencia a tener en consideración \n",
    "        s = np.sum(xn_wn * np.exp(-2*np.pi*1j*np.arange(N)*k/N))\n",
    "        sk.append((np.abs(s)**2)/N)\n",
    "    return sk"
   ]
  },
  {
   "cell_type": "code",
   "execution_count": null,
   "id": "95a3e4d5",
   "metadata": {
    "id": "95a3e4d5"
   },
   "outputs": [],
   "source": [
    "def mean_epoch(canal):\n",
    "    epocas=canal.shape[1]\n",
    "    psd=[]\n",
    "    mean=[]\n",
    "    for i in range(epocas):\n",
    "        psds=calcular_PSD2(canal1[:,i]) # Calcula primero el PSD\n",
    "        psd.append(psds)\n",
    "    mean_psd=np.mean(psd,axis=0) # Despues promedia \n",
    "    mean.append(mean_psd)\n",
    "    return np.sum(mean_psd) # Devuelve la sumatoria"
   ]
  },
  {
   "cell_type": "code",
   "execution_count": null,
   "id": "154be0a7",
   "metadata": {
    "id": "154be0a7",
    "outputId": "4d377223-8664-4890-d4fa-6bd30a0883fc"
   },
   "outputs": [
    {
     "data": {
      "text/plain": [
       "28.26586692586665"
      ]
     },
     "execution_count": 41,
     "metadata": {},
     "output_type": "execute_result"
    }
   ],
   "source": [
    "ejemplo= mean_epoch(canal1)\n",
    "ejemplo"
   ]
  },
  {
   "cell_type": "markdown",
   "id": "e1b66824",
   "metadata": {
    "id": "e1b66824"
   },
   "source": [
    "### 3. Crear una función que reciba una señal EEG de múltiples canales y múltiples épocas y devuelva los valores calculados en el punto para cada canal por separado"
   ]
  },
  {
   "cell_type": "code",
   "execution_count": null,
   "id": "6fef248b",
   "metadata": {
    "id": "6fef248b",
    "outputId": "23ba3562-496b-4d08-eee2-316f437c8ae5"
   },
   "outputs": [
    {
     "data": {
      "text/plain": [
       "(8, 2000, 140)"
      ]
     },
     "execution_count": 77,
     "metadata": {},
     "output_type": "execute_result"
    }
   ],
   "source": [
    "data_control.shape # Se encuentra la relación de (canales, puntos, épocas)"
   ]
  },
  {
   "cell_type": "code",
   "execution_count": null,
   "id": "5da091ee",
   "metadata": {
    "id": "5da091ee"
   },
   "outputs": [],
   "source": [
    "def psd_multichannel(data_control): # Recibe una señal de multiples canales y multiples epocas \n",
    "    canales= data_control.shape[0]\n",
    "    epocas=data_control.shape[2]\n",
    "    s_channels=[]\n",
    "    mean_psd=[]\n",
    "    sumatoria=[]\n",
    "    for i in range(canales):\n",
    "        for j in range(epocas):\n",
    "            psds= calcular_PSD2(data_control[i,:,j])\n",
    "            s_channels.append(psds)\n",
    "        mean= np.mean(s_channels,axis=0)\n",
    "        mean_psd.append(mean)\n",
    "        suma= np.sum(mean)        \n",
    "        sumatoria.append(suma)\n",
    "    return mean_psd, sumatoria # Retorna promedio y la sumatoria"
   ]
  },
  {
   "cell_type": "code",
   "execution_count": null,
   "id": "cb2fb6e2",
   "metadata": {
    "id": "cb2fb6e2"
   },
   "outputs": [],
   "source": [
    "mean,suma= psd_multichannel(data_control)\n"
   ]
  },
  {
   "cell_type": "markdown",
   "id": "f0b59ddd",
   "metadata": {
    "id": "f0b59ddd"
   },
   "source": [
    "### 4.Crear una rutina que aplique sobre todos los archivos de la base de datos las rutina 3 y almacene los resultados en un dataframe donde se pueda discriminar nombre sujeto, control o paciente y el promedio de densidad espectral de potencia para cada canal, por ejemplo"
   ]
  },
  {
   "cell_type": "code",
   "execution_count": null,
   "id": "a19d749f",
   "metadata": {
    "id": "a19d749f",
    "outputId": "8d94eaf6-fd62-4abb-a496-9c478b5d1ecd"
   },
   "outputs": [
    {
     "data": {
      "text/plain": [
       "['./control\\\\C001R_EP_reposo.mat',\n",
       " './control\\\\C002_EP_reposo.mat',\n",
       " './control\\\\C004_EP_reposo.mat',\n",
       " './control\\\\C005_EP_reposo_Repetido.mat',\n",
       " './control\\\\C006_EP_reposo.mat',\n",
       " './control\\\\C007_EP_reposo.mat',\n",
       " './control\\\\C010_EP_reposo.mat',\n",
       " './control\\\\C011_EP_reposo.mat',\n",
       " './control\\\\C012_EP_reposo.mat',\n",
       " './control\\\\C013_EP_reposo.mat',\n",
       " './control\\\\C015_EP_reposo.mat',\n",
       " './control\\\\C018_EP_reposo.mat',\n",
       " './control\\\\C019_EP_reposo.mat',\n",
       " './control\\\\C020_EP_reposo.mat',\n",
       " './control\\\\C021_EP_reposo.mat',\n",
       " './control\\\\C023_EP_reposo.mat',\n",
       " './control\\\\C024_EP_reposo.mat',\n",
       " './control\\\\C025_EP_reposo.mat',\n",
       " './control\\\\C026_EP_reposo.mat',\n",
       " './control\\\\C027_EP_reposo.mat',\n",
       " './control\\\\C028_EP_reposo.mat',\n",
       " './control\\\\C029_EP_reposo.mat',\n",
       " './control\\\\C030_EP_reposo.mat',\n",
       " './control\\\\C031_EP_reposo.mat',\n",
       " './control\\\\C032_EP_reposo.mat',\n",
       " './control\\\\C033R_EP_reposo.mat',\n",
       " './control\\\\C034_EP_reposo.mat',\n",
       " './control\\\\C036_EP_reposo.mat',\n",
       " './control\\\\C037_EP_reposo.mat',\n",
       " './control\\\\C040_EP_reposo.mat',\n",
       " './control\\\\C041_EP_reposo.mat',\n",
       " './control\\\\C042_EP_reposo.mat',\n",
       " './control\\\\C044_EP_reposo.mat',\n",
       " './control\\\\C045_EP_reposo.mat',\n",
       " './control\\\\C046_EP_reposo.mat',\n",
       " './control\\\\C049_EP_reposo.mat',\n",
       " './parkinson\\\\P001_EP_reposo.mat',\n",
       " './parkinson\\\\P004_EP_reposo.mat',\n",
       " './parkinson\\\\P005_EP_reposo.mat',\n",
       " './parkinson\\\\P007_EP_reposo.mat',\n",
       " './parkinson\\\\P012_EP_reposo.mat',\n",
       " './parkinson\\\\P013_EP_reposo.mat',\n",
       " './parkinson\\\\P015_EP_reposo.mat',\n",
       " './parkinson\\\\P016_EP_reposo.mat',\n",
       " './parkinson\\\\P017_EP_reposo.mat',\n",
       " './parkinson\\\\P018_EP_reposo.mat',\n",
       " './parkinson\\\\P020_EP_reposo.mat',\n",
       " './parkinson\\\\P025_EP_reposo.mat',\n",
       " './parkinson\\\\P026_EP_reposo.mat',\n",
       " './parkinson\\\\P028_EP_reposo.mat',\n",
       " './parkinson\\\\P030_EP_reposo.mat',\n",
       " './parkinson\\\\P032_EP_reposo.mat',\n",
       " './parkinson\\\\P033_EP_reposo.mat',\n",
       " './parkinson\\\\P034_EP_reposo.mat',\n",
       " './parkinson\\\\P040_EP_reposo.mat',\n",
       " './parkinson\\\\P041_EP_reposo.mat',\n",
       " './parkinson\\\\P046_EP_reposo.mat',\n",
       " './parkinson\\\\P048_EP_reposo.mat',\n",
       " './parkinson\\\\P049_EP_reposo.mat']"
      ]
     },
     "execution_count": 57,
     "metadata": {},
     "output_type": "execute_result"
    }
   ],
   "source": [
    "archivos_TOTAL= []\n",
    "archivos_TOTAL.extend(archivos_control),archivos_TOTAL.extend(archivos_parkinson)\n",
    "archivos_TOTAL # Se unen todas las rutas de los archivos .mat en una sola "
   ]
  },
  {
   "cell_type": "code",
   "execution_count": null,
   "id": "0488196f",
   "metadata": {
    "id": "0488196f",
    "outputId": "f15e8f37-84f9-4a5c-bca6-a65d4f95e3b8"
   },
   "outputs": [
    {
     "data": {
      "text/html": [
       "<div>\n",
       "<style scoped>\n",
       "    .dataframe tbody tr th:only-of-type {\n",
       "        vertical-align: middle;\n",
       "    }\n",
       "\n",
       "    .dataframe tbody tr th {\n",
       "        vertical-align: top;\n",
       "    }\n",
       "\n",
       "    .dataframe thead th {\n",
       "        text-align: right;\n",
       "    }\n",
       "</style>\n",
       "<table border=\"1\" class=\"dataframe\">\n",
       "  <thead>\n",
       "    <tr style=\"text-align: right;\">\n",
       "      <th></th>\n",
       "      <th>Estado</th>\n",
       "      <th>PSD_C3</th>\n",
       "      <th>PSD_C1</th>\n",
       "      <th>PSD_CZ</th>\n",
       "      <th>PSD_C2</th>\n",
       "      <th>PSD_C4</th>\n",
       "      <th>PSD_O1</th>\n",
       "      <th>PSD_OZ</th>\n",
       "      <th>PSD_O2</th>\n",
       "    </tr>\n",
       "    <tr>\n",
       "      <th>#sujeto</th>\n",
       "      <th></th>\n",
       "      <th></th>\n",
       "      <th></th>\n",
       "      <th></th>\n",
       "      <th></th>\n",
       "      <th></th>\n",
       "      <th></th>\n",
       "      <th></th>\n",
       "      <th></th>\n",
       "    </tr>\n",
       "  </thead>\n",
       "  <tbody>\n",
       "    <tr>\n",
       "      <th>1</th>\n",
       "      <td>control</td>\n",
       "      <td>1325.396207</td>\n",
       "      <td>1267.495008</td>\n",
       "      <td>1244.077212</td>\n",
       "      <td>1202.779542</td>\n",
       "      <td>1200.587250</td>\n",
       "      <td>1245.176955</td>\n",
       "      <td>1235.021903</td>\n",
       "      <td>1257.634077</td>\n",
       "    </tr>\n",
       "    <tr>\n",
       "      <th>2</th>\n",
       "      <td>control</td>\n",
       "      <td>665.873094</td>\n",
       "      <td>667.824073</td>\n",
       "      <td>712.831208</td>\n",
       "      <td>740.966971</td>\n",
       "      <td>747.015353</td>\n",
       "      <td>996.722196</td>\n",
       "      <td>1092.294707</td>\n",
       "      <td>1179.334451</td>\n",
       "    </tr>\n",
       "    <tr>\n",
       "      <th>3</th>\n",
       "      <td>control</td>\n",
       "      <td>686.942884</td>\n",
       "      <td>592.841756</td>\n",
       "      <td>673.104357</td>\n",
       "      <td>604.014519</td>\n",
       "      <td>650.274709</td>\n",
       "      <td>624.358886</td>\n",
       "      <td>609.740284</td>\n",
       "      <td>623.600735</td>\n",
       "    </tr>\n",
       "    <tr>\n",
       "      <th>4</th>\n",
       "      <td>control</td>\n",
       "      <td>1709.321939</td>\n",
       "      <td>1480.709797</td>\n",
       "      <td>1416.874223</td>\n",
       "      <td>1394.469240</td>\n",
       "      <td>1482.060410</td>\n",
       "      <td>1686.392802</td>\n",
       "      <td>1809.907697</td>\n",
       "      <td>1927.931226</td>\n",
       "    </tr>\n",
       "    <tr>\n",
       "      <th>5</th>\n",
       "      <td>control</td>\n",
       "      <td>1140.854115</td>\n",
       "      <td>1149.300418</td>\n",
       "      <td>1155.562918</td>\n",
       "      <td>1180.228937</td>\n",
       "      <td>1212.656484</td>\n",
       "      <td>1336.670803</td>\n",
       "      <td>1352.080039</td>\n",
       "      <td>1381.104538</td>\n",
       "    </tr>\n",
       "    <tr>\n",
       "      <th>6</th>\n",
       "      <td>control</td>\n",
       "      <td>755.256052</td>\n",
       "      <td>680.208258</td>\n",
       "      <td>695.163991</td>\n",
       "      <td>683.228867</td>\n",
       "      <td>693.009217</td>\n",
       "      <td>717.457885</td>\n",
       "      <td>733.686808</td>\n",
       "      <td>766.047874</td>\n",
       "    </tr>\n",
       "    <tr>\n",
       "      <th>7</th>\n",
       "      <td>control</td>\n",
       "      <td>633.375343</td>\n",
       "      <td>624.739430</td>\n",
       "      <td>652.201311</td>\n",
       "      <td>640.477261</td>\n",
       "      <td>646.556474</td>\n",
       "      <td>669.347365</td>\n",
       "      <td>662.362514</td>\n",
       "      <td>703.901638</td>\n",
       "    </tr>\n",
       "    <tr>\n",
       "      <th>8</th>\n",
       "      <td>control</td>\n",
       "      <td>850.926585</td>\n",
       "      <td>704.856535</td>\n",
       "      <td>667.219383</td>\n",
       "      <td>647.282929</td>\n",
       "      <td>719.385306</td>\n",
       "      <td>803.860831</td>\n",
       "      <td>823.107180</td>\n",
       "      <td>857.207164</td>\n",
       "    </tr>\n",
       "    <tr>\n",
       "      <th>9</th>\n",
       "      <td>control</td>\n",
       "      <td>285.562820</td>\n",
       "      <td>273.881502</td>\n",
       "      <td>283.874292</td>\n",
       "      <td>283.943431</td>\n",
       "      <td>288.845161</td>\n",
       "      <td>461.064314</td>\n",
       "      <td>580.438076</td>\n",
       "      <td>678.020048</td>\n",
       "    </tr>\n",
       "    <tr>\n",
       "      <th>10</th>\n",
       "      <td>control</td>\n",
       "      <td>1084.412935</td>\n",
       "      <td>1064.895363</td>\n",
       "      <td>1011.050844</td>\n",
       "      <td>957.922655</td>\n",
       "      <td>966.844879</td>\n",
       "      <td>1368.003610</td>\n",
       "      <td>1646.086956</td>\n",
       "      <td>1950.106848</td>\n",
       "    </tr>\n",
       "    <tr>\n",
       "      <th>11</th>\n",
       "      <td>control</td>\n",
       "      <td>883.668062</td>\n",
       "      <td>902.709914</td>\n",
       "      <td>957.333018</td>\n",
       "      <td>995.008004</td>\n",
       "      <td>1041.071589</td>\n",
       "      <td>1441.985431</td>\n",
       "      <td>1764.995577</td>\n",
       "      <td>1973.235262</td>\n",
       "    </tr>\n",
       "    <tr>\n",
       "      <th>12</th>\n",
       "      <td>control</td>\n",
       "      <td>1659.514136</td>\n",
       "      <td>1306.373542</td>\n",
       "      <td>1217.792107</td>\n",
       "      <td>1166.070475</td>\n",
       "      <td>1265.103783</td>\n",
       "      <td>2520.364250</td>\n",
       "      <td>2986.742629</td>\n",
       "      <td>3681.255690</td>\n",
       "    </tr>\n",
       "    <tr>\n",
       "      <th>13</th>\n",
       "      <td>control</td>\n",
       "      <td>1360.659992</td>\n",
       "      <td>1376.296905</td>\n",
       "      <td>1517.312284</td>\n",
       "      <td>1475.030047</td>\n",
       "      <td>1453.327641</td>\n",
       "      <td>1744.231196</td>\n",
       "      <td>1864.236129</td>\n",
       "      <td>2186.341996</td>\n",
       "    </tr>\n",
       "    <tr>\n",
       "      <th>14</th>\n",
       "      <td>control</td>\n",
       "      <td>210.649345</td>\n",
       "      <td>187.648508</td>\n",
       "      <td>172.777525</td>\n",
       "      <td>168.214878</td>\n",
       "      <td>177.885303</td>\n",
       "      <td>281.589555</td>\n",
       "      <td>346.083525</td>\n",
       "      <td>426.488284</td>\n",
       "    </tr>\n",
       "    <tr>\n",
       "      <th>15</th>\n",
       "      <td>control</td>\n",
       "      <td>995.982230</td>\n",
       "      <td>996.368411</td>\n",
       "      <td>947.486905</td>\n",
       "      <td>892.103963</td>\n",
       "      <td>884.306138</td>\n",
       "      <td>1449.220767</td>\n",
       "      <td>1727.546522</td>\n",
       "      <td>1933.454558</td>\n",
       "    </tr>\n",
       "    <tr>\n",
       "      <th>16</th>\n",
       "      <td>control</td>\n",
       "      <td>504.436397</td>\n",
       "      <td>508.226506</td>\n",
       "      <td>517.335768</td>\n",
       "      <td>485.094829</td>\n",
       "      <td>469.321324</td>\n",
       "      <td>608.357906</td>\n",
       "      <td>750.546850</td>\n",
       "      <td>831.272609</td>\n",
       "    </tr>\n",
       "    <tr>\n",
       "      <th>17</th>\n",
       "      <td>control</td>\n",
       "      <td>958.193998</td>\n",
       "      <td>930.163531</td>\n",
       "      <td>943.757647</td>\n",
       "      <td>957.662042</td>\n",
       "      <td>970.509012</td>\n",
       "      <td>1091.852109</td>\n",
       "      <td>1146.988489</td>\n",
       "      <td>1252.001831</td>\n",
       "    </tr>\n",
       "    <tr>\n",
       "      <th>18</th>\n",
       "      <td>control</td>\n",
       "      <td>3298.591063</td>\n",
       "      <td>2833.992715</td>\n",
       "      <td>2830.094081</td>\n",
       "      <td>3018.206246</td>\n",
       "      <td>3182.978662</td>\n",
       "      <td>4081.219533</td>\n",
       "      <td>4623.780440</td>\n",
       "      <td>5378.061984</td>\n",
       "    </tr>\n",
       "    <tr>\n",
       "      <th>19</th>\n",
       "      <td>control</td>\n",
       "      <td>348.242686</td>\n",
       "      <td>287.553814</td>\n",
       "      <td>262.318558</td>\n",
       "      <td>255.944853</td>\n",
       "      <td>279.733929</td>\n",
       "      <td>380.402265</td>\n",
       "      <td>448.488486</td>\n",
       "      <td>544.313960</td>\n",
       "    </tr>\n",
       "    <tr>\n",
       "      <th>20</th>\n",
       "      <td>control</td>\n",
       "      <td>363.908712</td>\n",
       "      <td>300.290955</td>\n",
       "      <td>292.462452</td>\n",
       "      <td>286.623234</td>\n",
       "      <td>340.476313</td>\n",
       "      <td>407.225916</td>\n",
       "      <td>442.021618</td>\n",
       "      <td>536.914427</td>\n",
       "    </tr>\n",
       "    <tr>\n",
       "      <th>21</th>\n",
       "      <td>control</td>\n",
       "      <td>918.878524</td>\n",
       "      <td>757.518627</td>\n",
       "      <td>684.769028</td>\n",
       "      <td>665.222446</td>\n",
       "      <td>775.221769</td>\n",
       "      <td>1082.913029</td>\n",
       "      <td>1220.712197</td>\n",
       "      <td>1325.420491</td>\n",
       "    </tr>\n",
       "    <tr>\n",
       "      <th>22</th>\n",
       "      <td>control</td>\n",
       "      <td>674.455476</td>\n",
       "      <td>634.647896</td>\n",
       "      <td>622.452173</td>\n",
       "      <td>638.494595</td>\n",
       "      <td>722.605015</td>\n",
       "      <td>912.799138</td>\n",
       "      <td>1011.150518</td>\n",
       "      <td>1064.281899</td>\n",
       "    </tr>\n",
       "    <tr>\n",
       "      <th>23</th>\n",
       "      <td>control</td>\n",
       "      <td>837.147088</td>\n",
       "      <td>810.104876</td>\n",
       "      <td>795.434781</td>\n",
       "      <td>803.648462</td>\n",
       "      <td>980.764959</td>\n",
       "      <td>1292.460956</td>\n",
       "      <td>1432.564776</td>\n",
       "      <td>1644.044073</td>\n",
       "    </tr>\n",
       "    <tr>\n",
       "      <th>24</th>\n",
       "      <td>control</td>\n",
       "      <td>834.461954</td>\n",
       "      <td>813.816140</td>\n",
       "      <td>814.370910</td>\n",
       "      <td>811.062815</td>\n",
       "      <td>785.636141</td>\n",
       "      <td>903.129028</td>\n",
       "      <td>958.577834</td>\n",
       "      <td>1022.039111</td>\n",
       "    </tr>\n",
       "    <tr>\n",
       "      <th>25</th>\n",
       "      <td>control</td>\n",
       "      <td>969.624611</td>\n",
       "      <td>846.435864</td>\n",
       "      <td>743.913860</td>\n",
       "      <td>704.011133</td>\n",
       "      <td>743.189782</td>\n",
       "      <td>999.085973</td>\n",
       "      <td>1066.743705</td>\n",
       "      <td>1099.556319</td>\n",
       "    </tr>\n",
       "    <tr>\n",
       "      <th>26</th>\n",
       "      <td>control</td>\n",
       "      <td>708.806524</td>\n",
       "      <td>684.591518</td>\n",
       "      <td>739.020203</td>\n",
       "      <td>713.979487</td>\n",
       "      <td>726.087333</td>\n",
       "      <td>656.091440</td>\n",
       "      <td>650.621300</td>\n",
       "      <td>664.238292</td>\n",
       "    </tr>\n",
       "    <tr>\n",
       "      <th>27</th>\n",
       "      <td>control</td>\n",
       "      <td>2013.559099</td>\n",
       "      <td>1802.604541</td>\n",
       "      <td>1774.800159</td>\n",
       "      <td>1864.316581</td>\n",
       "      <td>2075.136122</td>\n",
       "      <td>2891.948659</td>\n",
       "      <td>3326.936327</td>\n",
       "      <td>3701.103244</td>\n",
       "    </tr>\n",
       "    <tr>\n",
       "      <th>28</th>\n",
       "      <td>control</td>\n",
       "      <td>541.177174</td>\n",
       "      <td>394.788478</td>\n",
       "      <td>286.159658</td>\n",
       "      <td>247.685626</td>\n",
       "      <td>254.312232</td>\n",
       "      <td>342.986413</td>\n",
       "      <td>383.733641</td>\n",
       "      <td>398.606369</td>\n",
       "    </tr>\n",
       "    <tr>\n",
       "      <th>29</th>\n",
       "      <td>control</td>\n",
       "      <td>2137.922546</td>\n",
       "      <td>2154.186845</td>\n",
       "      <td>2315.887989</td>\n",
       "      <td>2205.294364</td>\n",
       "      <td>2193.320286</td>\n",
       "      <td>2034.243444</td>\n",
       "      <td>1880.254047</td>\n",
       "      <td>1749.853794</td>\n",
       "    </tr>\n",
       "    <tr>\n",
       "      <th>30</th>\n",
       "      <td>control</td>\n",
       "      <td>2422.329948</td>\n",
       "      <td>2552.491994</td>\n",
       "      <td>2723.819374</td>\n",
       "      <td>2568.285836</td>\n",
       "      <td>2455.537945</td>\n",
       "      <td>2657.569488</td>\n",
       "      <td>2702.570103</td>\n",
       "      <td>2833.920976</td>\n",
       "    </tr>\n",
       "    <tr>\n",
       "      <th>31</th>\n",
       "      <td>control</td>\n",
       "      <td>2602.426832</td>\n",
       "      <td>2270.765762</td>\n",
       "      <td>3021.325856</td>\n",
       "      <td>3510.465741</td>\n",
       "      <td>3546.118222</td>\n",
       "      <td>3309.192888</td>\n",
       "      <td>3055.397110</td>\n",
       "      <td>2880.138994</td>\n",
       "    </tr>\n",
       "    <tr>\n",
       "      <th>32</th>\n",
       "      <td>control</td>\n",
       "      <td>1730.392227</td>\n",
       "      <td>1829.928590</td>\n",
       "      <td>1858.003607</td>\n",
       "      <td>1945.950342</td>\n",
       "      <td>2056.849770</td>\n",
       "      <td>2460.041562</td>\n",
       "      <td>2641.369120</td>\n",
       "      <td>2840.218802</td>\n",
       "    </tr>\n",
       "    <tr>\n",
       "      <th>33</th>\n",
       "      <td>control</td>\n",
       "      <td>726.107678</td>\n",
       "      <td>673.084503</td>\n",
       "      <td>734.733086</td>\n",
       "      <td>742.661888</td>\n",
       "      <td>818.710096</td>\n",
       "      <td>961.543913</td>\n",
       "      <td>1037.521488</td>\n",
       "      <td>1118.486151</td>\n",
       "    </tr>\n",
       "    <tr>\n",
       "      <th>34</th>\n",
       "      <td>control</td>\n",
       "      <td>789.509633</td>\n",
       "      <td>795.577398</td>\n",
       "      <td>871.733700</td>\n",
       "      <td>789.793748</td>\n",
       "      <td>755.930278</td>\n",
       "      <td>885.666474</td>\n",
       "      <td>963.654387</td>\n",
       "      <td>1122.700940</td>\n",
       "    </tr>\n",
       "    <tr>\n",
       "      <th>35</th>\n",
       "      <td>control</td>\n",
       "      <td>925.150630</td>\n",
       "      <td>707.985972</td>\n",
       "      <td>632.431977</td>\n",
       "      <td>608.079919</td>\n",
       "      <td>644.877095</td>\n",
       "      <td>795.320717</td>\n",
       "      <td>876.166266</td>\n",
       "      <td>942.922754</td>\n",
       "    </tr>\n",
       "    <tr>\n",
       "      <th>36</th>\n",
       "      <td>control</td>\n",
       "      <td>1131.469009</td>\n",
       "      <td>987.261888</td>\n",
       "      <td>947.817207</td>\n",
       "      <td>1029.386683</td>\n",
       "      <td>1169.734932</td>\n",
       "      <td>1368.032276</td>\n",
       "      <td>1427.338174</td>\n",
       "      <td>1561.567411</td>\n",
       "    </tr>\n",
       "    <tr>\n",
       "      <th>37</th>\n",
       "      <td>parkinson</td>\n",
       "      <td>693.635334</td>\n",
       "      <td>623.164658</td>\n",
       "      <td>596.254433</td>\n",
       "      <td>569.925076</td>\n",
       "      <td>584.815319</td>\n",
       "      <td>658.757921</td>\n",
       "      <td>701.406759</td>\n",
       "      <td>761.207367</td>\n",
       "    </tr>\n",
       "    <tr>\n",
       "      <th>38</th>\n",
       "      <td>parkinson</td>\n",
       "      <td>1151.387968</td>\n",
       "      <td>889.099923</td>\n",
       "      <td>785.140393</td>\n",
       "      <td>779.659331</td>\n",
       "      <td>834.429918</td>\n",
       "      <td>1192.902991</td>\n",
       "      <td>1378.209213</td>\n",
       "      <td>1596.240232</td>\n",
       "    </tr>\n",
       "    <tr>\n",
       "      <th>39</th>\n",
       "      <td>parkinson</td>\n",
       "      <td>1635.382670</td>\n",
       "      <td>1863.664006</td>\n",
       "      <td>1816.139034</td>\n",
       "      <td>1772.798439</td>\n",
       "      <td>1775.432594</td>\n",
       "      <td>2164.065820</td>\n",
       "      <td>2270.174137</td>\n",
       "      <td>2522.566389</td>\n",
       "    </tr>\n",
       "    <tr>\n",
       "      <th>40</th>\n",
       "      <td>parkinson</td>\n",
       "      <td>393.336976</td>\n",
       "      <td>332.171715</td>\n",
       "      <td>316.075912</td>\n",
       "      <td>293.478530</td>\n",
       "      <td>310.591404</td>\n",
       "      <td>559.302461</td>\n",
       "      <td>864.747228</td>\n",
       "      <td>1319.716475</td>\n",
       "    </tr>\n",
       "    <tr>\n",
       "      <th>41</th>\n",
       "      <td>parkinson</td>\n",
       "      <td>1689.945386</td>\n",
       "      <td>1609.720998</td>\n",
       "      <td>1764.289112</td>\n",
       "      <td>1695.263511</td>\n",
       "      <td>1660.913231</td>\n",
       "      <td>2059.872130</td>\n",
       "      <td>2285.854054</td>\n",
       "      <td>2550.393193</td>\n",
       "    </tr>\n",
       "    <tr>\n",
       "      <th>42</th>\n",
       "      <td>parkinson</td>\n",
       "      <td>719.732252</td>\n",
       "      <td>660.431196</td>\n",
       "      <td>667.556174</td>\n",
       "      <td>644.053885</td>\n",
       "      <td>682.728672</td>\n",
       "      <td>917.479554</td>\n",
       "      <td>1194.370252</td>\n",
       "      <td>1585.766922</td>\n",
       "    </tr>\n",
       "    <tr>\n",
       "      <th>43</th>\n",
       "      <td>parkinson</td>\n",
       "      <td>756.638687</td>\n",
       "      <td>754.312217</td>\n",
       "      <td>757.609531</td>\n",
       "      <td>744.411110</td>\n",
       "      <td>768.786313</td>\n",
       "      <td>1079.832131</td>\n",
       "      <td>1263.485376</td>\n",
       "      <td>1370.114772</td>\n",
       "    </tr>\n",
       "    <tr>\n",
       "      <th>44</th>\n",
       "      <td>parkinson</td>\n",
       "      <td>588.857445</td>\n",
       "      <td>429.823730</td>\n",
       "      <td>372.136266</td>\n",
       "      <td>370.665817</td>\n",
       "      <td>366.638480</td>\n",
       "      <td>409.526473</td>\n",
       "      <td>440.178101</td>\n",
       "      <td>476.867044</td>\n",
       "    </tr>\n",
       "    <tr>\n",
       "      <th>45</th>\n",
       "      <td>parkinson</td>\n",
       "      <td>332.487259</td>\n",
       "      <td>286.723126</td>\n",
       "      <td>279.695575</td>\n",
       "      <td>262.946395</td>\n",
       "      <td>265.647007</td>\n",
       "      <td>407.223272</td>\n",
       "      <td>599.969896</td>\n",
       "      <td>685.614707</td>\n",
       "    </tr>\n",
       "    <tr>\n",
       "      <th>46</th>\n",
       "      <td>parkinson</td>\n",
       "      <td>1263.988122</td>\n",
       "      <td>1240.382017</td>\n",
       "      <td>1295.921549</td>\n",
       "      <td>1265.418335</td>\n",
       "      <td>1247.521476</td>\n",
       "      <td>1466.670633</td>\n",
       "      <td>1555.145930</td>\n",
       "      <td>1638.166398</td>\n",
       "    </tr>\n",
       "    <tr>\n",
       "      <th>47</th>\n",
       "      <td>parkinson</td>\n",
       "      <td>1522.577752</td>\n",
       "      <td>1474.350279</td>\n",
       "      <td>1628.086910</td>\n",
       "      <td>1576.726667</td>\n",
       "      <td>1566.914883</td>\n",
       "      <td>2658.023197</td>\n",
       "      <td>2980.683086</td>\n",
       "      <td>3740.457693</td>\n",
       "    </tr>\n",
       "    <tr>\n",
       "      <th>48</th>\n",
       "      <td>parkinson</td>\n",
       "      <td>771.895198</td>\n",
       "      <td>763.261989</td>\n",
       "      <td>816.098114</td>\n",
       "      <td>800.769788</td>\n",
       "      <td>827.338597</td>\n",
       "      <td>1719.475874</td>\n",
       "      <td>2028.016277</td>\n",
       "      <td>2346.814123</td>\n",
       "    </tr>\n",
       "    <tr>\n",
       "      <th>49</th>\n",
       "      <td>parkinson</td>\n",
       "      <td>580.292920</td>\n",
       "      <td>555.566178</td>\n",
       "      <td>674.495531</td>\n",
       "      <td>737.985542</td>\n",
       "      <td>772.452435</td>\n",
       "      <td>806.106504</td>\n",
       "      <td>807.169927</td>\n",
       "      <td>816.048759</td>\n",
       "    </tr>\n",
       "    <tr>\n",
       "      <th>50</th>\n",
       "      <td>parkinson</td>\n",
       "      <td>505.051025</td>\n",
       "      <td>507.711159</td>\n",
       "      <td>513.320864</td>\n",
       "      <td>490.097428</td>\n",
       "      <td>473.184621</td>\n",
       "      <td>505.003257</td>\n",
       "      <td>536.159055</td>\n",
       "      <td>601.152678</td>\n",
       "    </tr>\n",
       "    <tr>\n",
       "      <th>51</th>\n",
       "      <td>parkinson</td>\n",
       "      <td>1181.050832</td>\n",
       "      <td>1014.200448</td>\n",
       "      <td>920.531835</td>\n",
       "      <td>866.694666</td>\n",
       "      <td>868.885856</td>\n",
       "      <td>1359.158863</td>\n",
       "      <td>1530.998891</td>\n",
       "      <td>1773.097045</td>\n",
       "    </tr>\n",
       "    <tr>\n",
       "      <th>52</th>\n",
       "      <td>parkinson</td>\n",
       "      <td>1129.875868</td>\n",
       "      <td>1068.135816</td>\n",
       "      <td>1037.987759</td>\n",
       "      <td>997.469140</td>\n",
       "      <td>975.844205</td>\n",
       "      <td>1380.342471</td>\n",
       "      <td>1672.548434</td>\n",
       "      <td>1866.885910</td>\n",
       "    </tr>\n",
       "    <tr>\n",
       "      <th>53</th>\n",
       "      <td>parkinson</td>\n",
       "      <td>933.620899</td>\n",
       "      <td>927.433821</td>\n",
       "      <td>955.677620</td>\n",
       "      <td>947.778653</td>\n",
       "      <td>1051.920945</td>\n",
       "      <td>1130.925134</td>\n",
       "      <td>1164.649232</td>\n",
       "      <td>1210.711592</td>\n",
       "    </tr>\n",
       "    <tr>\n",
       "      <th>54</th>\n",
       "      <td>parkinson</td>\n",
       "      <td>650.792692</td>\n",
       "      <td>594.183386</td>\n",
       "      <td>523.949392</td>\n",
       "      <td>487.243633</td>\n",
       "      <td>474.677549</td>\n",
       "      <td>604.967104</td>\n",
       "      <td>690.392086</td>\n",
       "      <td>757.894501</td>\n",
       "    </tr>\n",
       "    <tr>\n",
       "      <th>55</th>\n",
       "      <td>parkinson</td>\n",
       "      <td>615.267400</td>\n",
       "      <td>547.647899</td>\n",
       "      <td>540.342052</td>\n",
       "      <td>549.206613</td>\n",
       "      <td>589.125184</td>\n",
       "      <td>1137.503126</td>\n",
       "      <td>1354.603496</td>\n",
       "      <td>1667.944451</td>\n",
       "    </tr>\n",
       "    <tr>\n",
       "      <th>56</th>\n",
       "      <td>parkinson</td>\n",
       "      <td>477.830436</td>\n",
       "      <td>491.160327</td>\n",
       "      <td>507.315434</td>\n",
       "      <td>498.190301</td>\n",
       "      <td>495.092537</td>\n",
       "      <td>608.998925</td>\n",
       "      <td>659.970943</td>\n",
       "      <td>702.988990</td>\n",
       "    </tr>\n",
       "    <tr>\n",
       "      <th>57</th>\n",
       "      <td>parkinson</td>\n",
       "      <td>1498.080779</td>\n",
       "      <td>1436.007186</td>\n",
       "      <td>1503.644919</td>\n",
       "      <td>1497.361827</td>\n",
       "      <td>1502.901716</td>\n",
       "      <td>1619.073561</td>\n",
       "      <td>1720.097099</td>\n",
       "      <td>1794.316987</td>\n",
       "    </tr>\n",
       "    <tr>\n",
       "      <th>58</th>\n",
       "      <td>parkinson</td>\n",
       "      <td>595.145695</td>\n",
       "      <td>561.032819</td>\n",
       "      <td>592.166362</td>\n",
       "      <td>565.105108</td>\n",
       "      <td>573.682653</td>\n",
       "      <td>689.065988</td>\n",
       "      <td>767.927080</td>\n",
       "      <td>827.206753</td>\n",
       "    </tr>\n",
       "    <tr>\n",
       "      <th>59</th>\n",
       "      <td>parkinson</td>\n",
       "      <td>844.191945</td>\n",
       "      <td>713.920967</td>\n",
       "      <td>708.880864</td>\n",
       "      <td>709.804417</td>\n",
       "      <td>724.279647</td>\n",
       "      <td>789.315358</td>\n",
       "      <td>813.378107</td>\n",
       "      <td>854.278603</td>\n",
       "    </tr>\n",
       "  </tbody>\n",
       "</table>\n",
       "</div>"
      ],
      "text/plain": [
       "            Estado       PSD_C3       PSD_C1       PSD_CZ       PSD_C2  \\\n",
       "#sujeto                                                                  \n",
       "1          control  1325.396207  1267.495008  1244.077212  1202.779542   \n",
       "2          control   665.873094   667.824073   712.831208   740.966971   \n",
       "3          control   686.942884   592.841756   673.104357   604.014519   \n",
       "4          control  1709.321939  1480.709797  1416.874223  1394.469240   \n",
       "5          control  1140.854115  1149.300418  1155.562918  1180.228937   \n",
       "6          control   755.256052   680.208258   695.163991   683.228867   \n",
       "7          control   633.375343   624.739430   652.201311   640.477261   \n",
       "8          control   850.926585   704.856535   667.219383   647.282929   \n",
       "9          control   285.562820   273.881502   283.874292   283.943431   \n",
       "10         control  1084.412935  1064.895363  1011.050844   957.922655   \n",
       "11         control   883.668062   902.709914   957.333018   995.008004   \n",
       "12         control  1659.514136  1306.373542  1217.792107  1166.070475   \n",
       "13         control  1360.659992  1376.296905  1517.312284  1475.030047   \n",
       "14         control   210.649345   187.648508   172.777525   168.214878   \n",
       "15         control   995.982230   996.368411   947.486905   892.103963   \n",
       "16         control   504.436397   508.226506   517.335768   485.094829   \n",
       "17         control   958.193998   930.163531   943.757647   957.662042   \n",
       "18         control  3298.591063  2833.992715  2830.094081  3018.206246   \n",
       "19         control   348.242686   287.553814   262.318558   255.944853   \n",
       "20         control   363.908712   300.290955   292.462452   286.623234   \n",
       "21         control   918.878524   757.518627   684.769028   665.222446   \n",
       "22         control   674.455476   634.647896   622.452173   638.494595   \n",
       "23         control   837.147088   810.104876   795.434781   803.648462   \n",
       "24         control   834.461954   813.816140   814.370910   811.062815   \n",
       "25         control   969.624611   846.435864   743.913860   704.011133   \n",
       "26         control   708.806524   684.591518   739.020203   713.979487   \n",
       "27         control  2013.559099  1802.604541  1774.800159  1864.316581   \n",
       "28         control   541.177174   394.788478   286.159658   247.685626   \n",
       "29         control  2137.922546  2154.186845  2315.887989  2205.294364   \n",
       "30         control  2422.329948  2552.491994  2723.819374  2568.285836   \n",
       "31         control  2602.426832  2270.765762  3021.325856  3510.465741   \n",
       "32         control  1730.392227  1829.928590  1858.003607  1945.950342   \n",
       "33         control   726.107678   673.084503   734.733086   742.661888   \n",
       "34         control   789.509633   795.577398   871.733700   789.793748   \n",
       "35         control   925.150630   707.985972   632.431977   608.079919   \n",
       "36         control  1131.469009   987.261888   947.817207  1029.386683   \n",
       "37       parkinson   693.635334   623.164658   596.254433   569.925076   \n",
       "38       parkinson  1151.387968   889.099923   785.140393   779.659331   \n",
       "39       parkinson  1635.382670  1863.664006  1816.139034  1772.798439   \n",
       "40       parkinson   393.336976   332.171715   316.075912   293.478530   \n",
       "41       parkinson  1689.945386  1609.720998  1764.289112  1695.263511   \n",
       "42       parkinson   719.732252   660.431196   667.556174   644.053885   \n",
       "43       parkinson   756.638687   754.312217   757.609531   744.411110   \n",
       "44       parkinson   588.857445   429.823730   372.136266   370.665817   \n",
       "45       parkinson   332.487259   286.723126   279.695575   262.946395   \n",
       "46       parkinson  1263.988122  1240.382017  1295.921549  1265.418335   \n",
       "47       parkinson  1522.577752  1474.350279  1628.086910  1576.726667   \n",
       "48       parkinson   771.895198   763.261989   816.098114   800.769788   \n",
       "49       parkinson   580.292920   555.566178   674.495531   737.985542   \n",
       "50       parkinson   505.051025   507.711159   513.320864   490.097428   \n",
       "51       parkinson  1181.050832  1014.200448   920.531835   866.694666   \n",
       "52       parkinson  1129.875868  1068.135816  1037.987759   997.469140   \n",
       "53       parkinson   933.620899   927.433821   955.677620   947.778653   \n",
       "54       parkinson   650.792692   594.183386   523.949392   487.243633   \n",
       "55       parkinson   615.267400   547.647899   540.342052   549.206613   \n",
       "56       parkinson   477.830436   491.160327   507.315434   498.190301   \n",
       "57       parkinson  1498.080779  1436.007186  1503.644919  1497.361827   \n",
       "58       parkinson   595.145695   561.032819   592.166362   565.105108   \n",
       "59       parkinson   844.191945   713.920967   708.880864   709.804417   \n",
       "\n",
       "              PSD_C4       PSD_O1       PSD_OZ       PSD_O2  \n",
       "#sujeto                                                      \n",
       "1        1200.587250  1245.176955  1235.021903  1257.634077  \n",
       "2         747.015353   996.722196  1092.294707  1179.334451  \n",
       "3         650.274709   624.358886   609.740284   623.600735  \n",
       "4        1482.060410  1686.392802  1809.907697  1927.931226  \n",
       "5        1212.656484  1336.670803  1352.080039  1381.104538  \n",
       "6         693.009217   717.457885   733.686808   766.047874  \n",
       "7         646.556474   669.347365   662.362514   703.901638  \n",
       "8         719.385306   803.860831   823.107180   857.207164  \n",
       "9         288.845161   461.064314   580.438076   678.020048  \n",
       "10        966.844879  1368.003610  1646.086956  1950.106848  \n",
       "11       1041.071589  1441.985431  1764.995577  1973.235262  \n",
       "12       1265.103783  2520.364250  2986.742629  3681.255690  \n",
       "13       1453.327641  1744.231196  1864.236129  2186.341996  \n",
       "14        177.885303   281.589555   346.083525   426.488284  \n",
       "15        884.306138  1449.220767  1727.546522  1933.454558  \n",
       "16        469.321324   608.357906   750.546850   831.272609  \n",
       "17        970.509012  1091.852109  1146.988489  1252.001831  \n",
       "18       3182.978662  4081.219533  4623.780440  5378.061984  \n",
       "19        279.733929   380.402265   448.488486   544.313960  \n",
       "20        340.476313   407.225916   442.021618   536.914427  \n",
       "21        775.221769  1082.913029  1220.712197  1325.420491  \n",
       "22        722.605015   912.799138  1011.150518  1064.281899  \n",
       "23        980.764959  1292.460956  1432.564776  1644.044073  \n",
       "24        785.636141   903.129028   958.577834  1022.039111  \n",
       "25        743.189782   999.085973  1066.743705  1099.556319  \n",
       "26        726.087333   656.091440   650.621300   664.238292  \n",
       "27       2075.136122  2891.948659  3326.936327  3701.103244  \n",
       "28        254.312232   342.986413   383.733641   398.606369  \n",
       "29       2193.320286  2034.243444  1880.254047  1749.853794  \n",
       "30       2455.537945  2657.569488  2702.570103  2833.920976  \n",
       "31       3546.118222  3309.192888  3055.397110  2880.138994  \n",
       "32       2056.849770  2460.041562  2641.369120  2840.218802  \n",
       "33        818.710096   961.543913  1037.521488  1118.486151  \n",
       "34        755.930278   885.666474   963.654387  1122.700940  \n",
       "35        644.877095   795.320717   876.166266   942.922754  \n",
       "36       1169.734932  1368.032276  1427.338174  1561.567411  \n",
       "37        584.815319   658.757921   701.406759   761.207367  \n",
       "38        834.429918  1192.902991  1378.209213  1596.240232  \n",
       "39       1775.432594  2164.065820  2270.174137  2522.566389  \n",
       "40        310.591404   559.302461   864.747228  1319.716475  \n",
       "41       1660.913231  2059.872130  2285.854054  2550.393193  \n",
       "42        682.728672   917.479554  1194.370252  1585.766922  \n",
       "43        768.786313  1079.832131  1263.485376  1370.114772  \n",
       "44        366.638480   409.526473   440.178101   476.867044  \n",
       "45        265.647007   407.223272   599.969896   685.614707  \n",
       "46       1247.521476  1466.670633  1555.145930  1638.166398  \n",
       "47       1566.914883  2658.023197  2980.683086  3740.457693  \n",
       "48        827.338597  1719.475874  2028.016277  2346.814123  \n",
       "49        772.452435   806.106504   807.169927   816.048759  \n",
       "50        473.184621   505.003257   536.159055   601.152678  \n",
       "51        868.885856  1359.158863  1530.998891  1773.097045  \n",
       "52        975.844205  1380.342471  1672.548434  1866.885910  \n",
       "53       1051.920945  1130.925134  1164.649232  1210.711592  \n",
       "54        474.677549   604.967104   690.392086   757.894501  \n",
       "55        589.125184  1137.503126  1354.603496  1667.944451  \n",
       "56        495.092537   608.998925   659.970943   702.988990  \n",
       "57       1502.901716  1619.073561  1720.097099  1794.316987  \n",
       "58        573.682653   689.065988   767.927080   827.206753  \n",
       "59        724.279647   789.315358   813.378107   854.278603  "
      ]
     },
     "execution_count": 79,
     "metadata": {},
     "output_type": "execute_result"
    }
   ],
   "source": [
    "results= []\n",
    "estados=[]\n",
    "for archivo in archivos_TOTAL: #RECORRE TODOS LOS ARCHIVOS DE LA LISTA ANTERIOR \n",
    "    estado=archivo.split(\"/\")[1].split(\"\\\\\")[0] # Estado de los pacientes \n",
    "    estados.append(estado)\n",
    "    mat_contents = sio.loadmat(archivo)\n",
    "    data_original = mat_contents['data'];\n",
    "    data = data_original.copy()\n",
    "    psd, psd_sum = psd_multichannel(data)\n",
    "    results.append(psd_sum)\n",
    "df_pacientes=pd.DataFrame(results) # Creación del dataframe \n",
    "df_pacientes.index = np.arange(1, len(df_pacientes)+1) #El index comienza desde 1\n",
    "df_pacientes.index.names = ['#sujeto']\n",
    "df_pacientes.columns = ['PSD_C3', 'PSD_C1', 'PSD_CZ', 'PSD_C2', 'PSD_C4', 'PSD_O1', 'PSD_OZ', 'PSD_O2']\n",
    "df_pacientes.insert(0,\"Estado\",estados) #Se inserta la columna \"Estado\"\n",
    "df_pacientes"
   ]
  },
  {
   "cell_type": "code",
   "execution_count": null,
   "id": "2e039b8f",
   "metadata": {
    "id": "2e039b8f"
   },
   "outputs": [],
   "source": [
    "df_pacientes.to_csv(\"TabladeResultados.csv\",index=False) # Se exporta el dataframe como un archivo.csv para trabajar con mayor facilidad "
   ]
  },
  {
   "cell_type": "markdown",
   "id": "b1c597e2",
   "metadata": {
    "id": "b1c597e2"
   },
   "source": [
    "### Discusión de las diferencias en los grupos usando las gráficas obtenidas usando estadística descriptiva"
   ]
  },
  {
   "cell_type": "code",
   "execution_count": 2,
   "id": "6fb5b2a8",
   "metadata": {
    "colab": {
     "base_uri": "https://localhost:8080/"
    },
    "id": "6fb5b2a8",
    "outputId": "310b8d3b-5e70-4a98-f4a8-8874cf2f11f6"
   },
   "outputs": [
    {
     "name": "stdout",
     "output_type": "stream",
     "text": [
      "<class 'pandas.core.frame.DataFrame'>\n",
      "RangeIndex: 59 entries, 0 to 58\n",
      "Data columns (total 9 columns):\n",
      " #   Column  Non-Null Count  Dtype  \n",
      "---  ------  --------------  -----  \n",
      " 0   Estado  59 non-null     object \n",
      " 1   PSD_C3  59 non-null     float64\n",
      " 2   PSD_C1  59 non-null     float64\n",
      " 3   PSD_CZ  59 non-null     float64\n",
      " 4   PSD_C2  59 non-null     float64\n",
      " 5   PSD_C4  59 non-null     float64\n",
      " 6   PSD_O1  59 non-null     float64\n",
      " 7   PSD_OZ  59 non-null     float64\n",
      " 8   PSD_O2  59 non-null     float64\n",
      "dtypes: float64(8), object(1)\n",
      "memory usage: 4.3+ KB\n",
      "    Estado       PSD_C3       PSD_C1       PSD_CZ       PSD_C2       PSD_C4  \\\n",
      "0  control  1325.396207  1267.495008  1244.077212  1202.779542  1200.587250   \n",
      "1  control   665.873094   667.824073   712.831208   740.966971   747.015353   \n",
      "2  control   686.942884   592.841756   673.104357   604.014519   650.274709   \n",
      "3  control  1709.321939  1480.709797  1416.874223  1394.469240  1482.060410   \n",
      "4  control  1140.854115  1149.300418  1155.562918  1180.228937  1212.656484   \n",
      "\n",
      "        PSD_O1       PSD_OZ       PSD_O2  \n",
      "0  1245.176955  1235.021903  1257.634077  \n",
      "1   996.722196  1092.294707  1179.334451  \n",
      "2   624.358886   609.740284   623.600735  \n",
      "3  1686.392802  1809.907697  1927.931226  \n",
      "4  1336.670803  1352.080039  1381.104538   None\n"
     ]
    }
   ],
   "source": [
    "df= pd.read_csv(\"TabladeResultados.csv\") #Se importa el archivo con los datos\n",
    "print(df.head(),df.info()) # Se corrobora la información "
   ]
  },
  {
   "cell_type": "code",
   "execution_count": 3,
   "id": "3ddb8b06",
   "metadata": {
    "id": "3ddb8b06"
   },
   "outputs": [],
   "source": [
    "df_control=df[df['Estado'] == 'control'] # Se definen los pacientes de control\n",
    "df_parkinson = df[df['Estado'] == 'parkinson'] # Se definen los pacientes de parkinson "
   ]
  },
  {
   "cell_type": "code",
   "execution_count": 6,
   "id": "578f4826",
   "metadata": {
    "id": "578f4826"
   },
   "outputs": [],
   "source": [
    "x=['Promedio','Varianza','Desviación estandar','Mediana'] # Creación de una lista con las pruebas estadisticas que se van a utilizar"
   ]
  },
  {
   "cell_type": "code",
   "execution_count": 11,
   "id": "2e7a8110",
   "metadata": {},
   "outputs": [
    {
     "data": {
      "text/plain": [
       "<matplotlib.collections.PathCollection at 0x18d0a17e250>"
      ]
     },
     "execution_count": 11,
     "metadata": {},
     "output_type": "execute_result"
    },
    {
     "data": {
      "image/png": "[encoded data removed]",
      "text/plain": [
       "<Figure size 640x480 with 1 Axes>"
      ]
     },
     "metadata": {},
     "output_type": "display_data"
    }
   ],
   "source": [
    "plt.scatter(df_control['PSD_C3'],df_control['PSD_OZ'])"
   ]
  },
  {
   "cell_type": "markdown",
   "id": "E3j9umnxUjy_",
   "metadata": {
    "id": "E3j9umnxUjy_"
   },
   "source": [
    "*Definición de función graficar*"
   ]
  },
  {
   "cell_type": "code",
   "execution_count": 14,
   "id": "829370ce",
   "metadata": {
    "id": "829370ce"
   },
   "outputs": [],
   "source": [
    "def graficar(control, parkinson, estadistica): # Toma los datos de control, parkinson y la prueba estadistica \n",
    "    labels = ['C3', 'C1', 'CZ', 'C2', 'C4', 'O1', 'OZ', 'O2']\n",
    "    fig, ax = plt.subplots()\n",
    "    width = 0.35  # the width of the bars\n",
    "    x = np.arange(len(labels))\n",
    "\n",
    "    # Definición de los valores de las barras \n",
    "    rects1 = ax.bar(x - width/2, control, width, label='Control')\n",
    "    rects2 = ax.bar(x + width/2, parkinson, width, label='Parkinson')\n",
    "\n",
    "    # Definición de las barras de error\n",
    "    errors1 = np.std(control)\n",
    "    errors2 = np.std(parkinson)\n",
    "\n",
    "    ax.errorbar(x - width/2, control, yerr=errors1, fmt='none', capsize=5, color='red')\n",
    "    ax.errorbar(x + width/2, parkinson, yerr=errors2, fmt='none', capsize=5, color='red')\n",
    "\n",
    "    ax.set_xticks(x) # Se establecen los limites del eje \n",
    "    ax.set_xticklabels(labels)\n",
    "    fig.tight_layout()\n",
    "    ax.set_ylabel(str(estadistica)+' PSD') # concatena el nombre de la prueba estadistica con el eje Y\n",
    "    ax.set_xlabel('Canales')\n",
    "    ax.set_title(str(estadistica)+' de la Densidad espectral de potencia para cada grupo en cada canal') # Concatena el nombre de la prueba estadistica con el titulo de la figura \n",
    "    ax.legend(loc=\"center\") # Localización de la leyenda \n",
    "\n",
    "    plt.show()\n"
   ]
  },
  {
   "cell_type": "markdown",
   "id": "JbiJcgoxU0ji",
   "metadata": {
    "id": "JbiJcgoxU0ji"
   },
   "source": [
    "* Promedio de los grupos\n",
    "\n",
    "---\n",
    "\n",
    "\n",
    "\n"
   ]
  },
  {
   "cell_type": "code",
   "execution_count": 15,
   "id": "57ceae68",
   "metadata": {
    "colab": {
     "base_uri": "https://localhost:8080/",
     "height": 868
    },
    "id": "57ceae68",
    "outputId": "66a31feb-30d1-49ff-d23e-6d66901c39ed"
   },
   "outputs": [
    {
     "data": {
      "image/png": "[encoded data removed]",
      "text/plain": [
       "<Figure size 640x480 with 1 Axes>"
      ]
     },
     "metadata": {},
     "output_type": "display_data"
    },
    {
     "name": "stdout",
     "output_type": "stream",
     "text": [
      "---------------------------------------\n",
      "\n",
      " Promedio PSD Grupo Control \n",
      "\n",
      "\n",
      "PSD_C3    1102.366321\n",
      "PSD_C1    1023.671329\n",
      "PSD_CZ    1048.258435\n",
      "PSD_C2    1052.322572\n",
      "PSD_C4    1093.777248\n",
      "PSD_O1    1318.570277\n",
      "PSD_OZ    1424.485206\n",
      "PSD_O2    1556.592467\n",
      "dtype: float64\n",
      "---------------------------------------\n",
      "\n",
      " Promedio PSD Grupo Parkinson \n",
      "\n",
      "\n",
      "PSD_C3     892.655023\n",
      "PSD_C1     841.048081\n",
      "PSD_CZ     851.013723\n",
      "PSD_C2     831.437140\n",
      "PSD_C4     843.208924\n",
      "PSD_O1    1127.112728\n",
      "PSD_OZ    1273.049333\n",
      "PSD_O2    1455.063112\n",
      "dtype: float64\n"
     ]
    }
   ],
   "source": [
    "\"la PSD es una medida de la actividad cerebral en términos de contenido de frecuencia. El promedio de la PSD se puede utilizar para identificar patrones de actividad cerebral\"\n",
    "promedio_control,promedio_parkinson= np.mean(df_control),np.mean(df_parkinson)\n",
    "graficar(promedio_control,promedio_parkinson,x[0])\n",
    "\n",
    "print('---------------------------------------\\n\\n Promedio PSD Grupo Control \\n\\n')\n",
    "print(promedio_control)\n",
    "print('---------------------------------------\\n\\n Promedio PSD Grupo Parkinson \\n\\n')\n",
    "print(promedio_parkinson)\n"
   ]
  },
  {
   "cell_type": "markdown",
   "id": "LX9fdw1rVIP4",
   "metadata": {
    "id": "LX9fdw1rVIP4"
   },
   "source": [
    "\n",
    "\n",
    "*   Varianza de los grupos\n",
    "\n",
    "---\n",
    "\n",
    "\n",
    "\n"
   ]
  },
  {
   "cell_type": "code",
   "execution_count": null,
   "id": "ef4e3e81",
   "metadata": {
    "colab": {
     "base_uri": "https://localhost:8080/",
     "height": 857
    },
    "id": "ef4e3e81",
    "outputId": "c682b4c0-2940-451c-f4b0-ba2d1e91c09a"
   },
   "outputs": [
    {
     "name": "stderr",
     "output_type": "stream",
     "text": [
      "/usr/local/lib/python3.9/dist-packages/numpy/core/fromnumeric.py:3755: FutureWarning: Dropping of nuisance columns in DataFrame reductions (with 'numeric_only=None') is deprecated; in a future version this will raise TypeError.  Select only valid columns before calling the reduction.\n",
      "  return var(axis=axis, dtype=dtype, out=out, ddof=ddof, **kwargs)\n"
     ]
    },
    {
     "data": {
      "image/png": "[encoded data removed]",
      "text/plain": [
       "<Figure size 432x288 with 1 Axes>"
      ]
     },
     "metadata": {
      "needs_background": "light"
     },
     "output_type": "display_data"
    },
    {
     "name": "stdout",
     "output_type": "stream",
     "text": [
      "---------------------------------------\n",
      "\n",
      " Varianza PSD Grupo Control \n",
      "\n",
      "\n",
      "PSD_C3    4.669062e+05\n",
      "PSD_C1    4.064287e+05\n",
      "PSD_CZ    5.040609e+05\n",
      "PSD_C2    5.765633e+05\n",
      "PSD_C4    5.938065e+05\n",
      "PSD_O1    7.685374e+05\n",
      "PSD_OZ    8.982731e+05\n",
      "PSD_O2    1.144131e+06\n",
      "dtype: float64\n",
      "---------------------------------------\n",
      "\n",
      " Varianza PSD Grupo Parkinson \n",
      "\n",
      "\n",
      "PSD_C3    160904.190920\n",
      "PSD_C1    175133.730785\n",
      "PSD_CZ    197945.309479\n",
      "PSD_C2    187899.625176\n",
      "PSD_C4    183258.537669\n",
      "PSD_O1    351212.680317\n",
      "PSD_OZ    418668.569579\n",
      "PSD_O2    605180.885833\n",
      "dtype: float64\n"
     ]
    }
   ],
   "source": [
    "\"La varianza de la PSD proporciona información sobre la variabilidad de la actividad cerebral en diferentes regiones del cerebro\"\n",
    "varianza_control, varianza_parkinson = np.var(df_control,axis=0), np.var(df_parkinson,axis=0)\n",
    "graficar(varianza_control,varianza_parkinson,x[1])\n",
    "\n",
    "print('---------------------------------------\\n\\n Varianza PSD Grupo Control \\n\\n')\n",
    "print(varianza_control)\n",
    "print('---------------------------------------\\n\\n Varianza PSD Grupo Parkinson \\n\\n')\n",
    "print(varianza_parkinson)"
   ]
  },
  {
   "cell_type": "markdown",
   "id": "rxPOwYS8VSh3",
   "metadata": {
    "id": "rxPOwYS8VSh3"
   },
   "source": [
    "* Desviación estandar de los grupos \n",
    "---"
   ]
  },
  {
   "cell_type": "code",
   "execution_count": null,
   "id": "8007a535",
   "metadata": {
    "colab": {
     "base_uri": "https://localhost:8080/",
     "height": 813
    },
    "id": "8007a535",
    "outputId": "a68632f2-d469-4703-ec5d-042d213439c3"
   },
   "outputs": [
    {
     "data": {
      "image/png": "[encoded data removed]",
      "text/plain": [
       "<Figure size 432x288 with 1 Axes>"
      ]
     },
     "metadata": {
      "needs_background": "light"
     },
     "output_type": "display_data"
    },
    {
     "name": "stdout",
     "output_type": "stream",
     "text": [
      "---------------------------------------\n",
      "\n",
      " Desviación estandar PSD Grupo Control \n",
      "\n",
      "\n",
      "PSD_C3     683.305360\n",
      "PSD_C1     637.517598\n",
      "PSD_CZ     709.972490\n",
      "PSD_C2     759.317668\n",
      "PSD_C4     770.588426\n",
      "PSD_O1     876.662621\n",
      "PSD_OZ     947.772709\n",
      "PSD_O2    1069.640485\n",
      "dtype: float64\n",
      "---------------------------------------\n",
      "\n",
      " Desviación estandar PSD Grupo Parkinson \n",
      "\n",
      "\n",
      "PSD_C3    401.128646\n",
      "PSD_C1    418.489822\n",
      "PSD_CZ    444.910451\n",
      "PSD_C2    433.473904\n",
      "PSD_C4    428.087068\n",
      "PSD_O1    592.631994\n",
      "PSD_OZ    647.046034\n",
      "PSD_O2    777.933728\n",
      "dtype: float64\n"
     ]
    }
   ],
   "source": [
    "\" puede utilizarse para identificar regiones cerebrales que son más estables o inestables en términos de su actividad\"\n",
    "std_control, std_parkinson = np.std(df_control,axis=0), np.std(df_parkinson,axis=0)\n",
    "graficar(std_control,std_parkinson,x[2])\n",
    "\n",
    "print('---------------------------------------\\n\\n Desviación estandar PSD Grupo Control \\n\\n')\n",
    "print(std_control)\n",
    "print('---------------------------------------\\n\\n Desviación estandar PSD Grupo Parkinson \\n\\n')\n",
    "print(std_parkinson)"
   ]
  },
  {
   "cell_type": "markdown",
   "id": "nSQx6hdwVY2G",
   "metadata": {
    "id": "nSQx6hdwVY2G"
   },
   "source": [
    "* Mediana de los grupos \n"
   ]
  },
  {
   "cell_type": "code",
   "execution_count": null,
   "id": "9df9bfc1",
   "metadata": {
    "id": "9df9bfc1"
   },
   "outputs": [],
   "source": [
    "# Como el dataframe de los grupos contiene una columna tipo str se elimina en una copia del df para poder calcular la mediana\n",
    "df_controlC= df_control.copy()\n",
    "df_controlC= df_controlC.drop(['Estado'],axis=1)\n",
    "\n",
    "df_parkinsonC= df_parkinson.copy()\n",
    "df_parkinsonC=df_parkinsonC.drop(['Estado'],axis=1)"
   ]
  },
  {
   "cell_type": "code",
   "execution_count": null,
   "id": "IZW6nDQ5Vf2e",
   "metadata": {
    "colab": {
     "base_uri": "https://localhost:8080/",
     "height": 555
    },
    "id": "IZW6nDQ5Vf2e",
    "outputId": "542af529-1e72-409f-8b62-d20503bde121"
   },
   "outputs": [
    {
     "data": {
      "image/png": "[encoded data removed]",
      "text/plain": [
       "<Figure size 432x288 with 1 Axes>"
      ]
     },
     "metadata": {
      "needs_background": "light"
     },
     "output_type": "display_data"
    },
    {
     "name": "stdout",
     "output_type": "stream",
     "text": [
      "---------------------------------------\n",
      "\n",
      " Mediana PSD Grupo Control \n",
      "\n",
      "\n",
      "[901.2732932124611, 811.9605079664691, 804.9028452068935, 796.7211048674687, 802.173118610544, 1040.9995005517883, 1119.6415978366135, 1215.6681408035074]\n",
      "---------------------------------------\n",
      "\n",
      " Mediana PSD Grupo Parkinson \n",
      "\n",
      "\n",
      "[756.6386869767521, 713.9209669791545, 708.8808641640464, 737.9855423463134, 768.786313265446, 1079.8321311257043, 1194.3702523436616, 1370.1147723869235]\n"
     ]
    }
   ],
   "source": [
    "\"La mediana de la PSD puede ser útil para identificar cambios en la actividad cerebral que no se reflejan en el promedio de la PSD\"\n",
    "median_control, median_parkinson= np.median(df_controlC,axis=0), np.median(df_parkinsonC,axis=0)\n",
    "graficar(median_control, median_parkinson,x[3])\n",
    "print('---------------------------------------\\n\\n Mediana PSD Grupo Control \\n\\n')\n",
    "print(list(median_control))\n",
    "print('---------------------------------------\\n\\n Mediana PSD Grupo Parkinson \\n\\n')\n",
    "print(list(median_parkinson))"
   ]
  },
  {
   "cell_type": "markdown",
   "id": "aaOzgPg3WpKO",
   "metadata": {
    "id": "aaOzgPg3WpKO"
   },
   "source": [
    "* Diagrama de bigotes"
   ]
  },
  {
   "cell_type": "code",
   "execution_count": null,
   "id": "JOioxNQfThLP",
   "metadata": {
    "colab": {
     "base_uri": "https://localhost:8080/",
     "height": 479
    },
    "id": "JOioxNQfThLP",
    "outputId": "6f3d3be6-4e01-4105-ec0f-1fc235f16bd9"
   },
   "outputs": [
    {
     "data": {
      "image/png": "[encoded data removed]",
      "text/plain": [
       "<Figure size 720x504 with 2 Axes>"
      ]
     },
     "metadata": {
      "needs_background": "light"
     },
     "output_type": "display_data"
    }
   ],
   "source": [
    "\"Un diagrama de cajas y bigotes muestra la distribución de los valores de la PSD para cada canal en términos de cuartiles y valores extremos, lo que puede permitir una comparación visual de la actividad cerebral en diferentes regiones del cerebro.\"\n",
    "dataframes = [df_controlC,df_parkinsonC] # Se unifican los dataframes\n",
    "\n",
    "# Crear una lista de nombres para las etiquetas del gráfico\n",
    "labels = ['Control', 'Parkinson']\n",
    "labels1=['C3', 'C1', 'CZ', 'C2', 'C4', 'O1', 'OZ', 'O2']\n",
    "# Crear una figura y dos subplots (uno por cada estado)\n",
    "fig, axs = plt.subplots(1, 2, figsize=(10,7))\n",
    "\n",
    "# Para cada estado y subplot, hacer un diagrama de caja y bigotes para cada canal\n",
    "for i, df_estado in enumerate(dataframes):\n",
    "    axs[i].boxplot([df_estado['PSD_C3'], df_estado['PSD_C1'], df_estado['PSD_CZ'], df_estado['PSD_C2'], df_estado['PSD_C4'], df_estado['PSD_O1'], df_estado['PSD_OZ'], df_estado['PSD_O2']])\n",
    "    axs[i].set_title(labels[i])\n",
    "    axs[i].set_xticklabels(labels1)\n",
    "fig.suptitle('Diagrama de caja y bigotes para varios canales y dos tipos de pacientes')\n",
    "plt.show()"
   ]
  },
  {
   "cell_type": "markdown",
   "id": "MgLlZ_aPqflb",
   "metadata": {
    "id": "MgLlZ_aPqflb"
   },
   "source": [
    "Notese que hay alta presencia de valores atipicos en ambos grupos, tanto en el de control como en el de parkinson, lo que es indicativo de errores en los datos o de condiciones extremas en el conjunto de datos. Es decir, estos pueden ser representativos de eventos fisiológicos reales, como artefactos de movimiento o interferencias electromagnéticas por lo que su eliminación conllevaría a perder información del EEG. \n",
    "\n",
    "Al observar las dimensiones de las cajas es posible determinar el rango intercuartilico en el que se encuentran los datos de cada canal, lo que nos lleva a observar que esta dimensión es mayor para el grupo de parkinson, quienes a pesar de mostrar menos cantidad de datos atipicos muestran más dispersión de los datos con respecto a la mediana, es decir, mayor variabilidad en la actividad cerebral.\n",
    "\n",
    "Notese que ambos grupos tienen una distribución equidistante de sus datos y que los canales que mayor dispersión de datos son los canales de O1, OZ y O2 lo que indica una mayor variabilidad en la actividad cerebral y los determina como objeto de estudio para ambos. "
   ]
  },
  {
   "cell_type": "markdown",
   "id": "a8921754",
   "metadata": {
    "id": "a8921754"
   },
   "source": [
    "# Pruebas de Hipótesis"
   ]
  },
  {
   "cell_type": "markdown",
   "id": "9cf3c726",
   "metadata": {
    "id": "9cf3c726"
   },
   "source": [
    "### Supuestos:\n",
    "Independiencia: Se supone independiencia ya que las dos poblaciones son diferentes\n",
    "\n",
    "Normalidad: prueba Shapiro-Wilk,datasets con n<50. \n",
    "Las hipótesis son:\n",
    "H0 = La distribución de los datos es normal.\n",
    "\n",
    "H1 = La distribución de los datos no es normal.\n",
    "\n",
    "p > 0.05, 95% de certeza de que los datos están distribuidos de manera normalizada.\n",
    "\n",
    "Prueba de normalidad para la población de control"
   ]
  },
  {
   "cell_type": "code",
   "execution_count": null,
   "id": "a32fde02",
   "metadata": {
    "colab": {
     "base_uri": "https://localhost:8080/"
    },
    "id": "a32fde02",
    "outputId": "499062dc-a01b-486a-ce1b-a6911103aa66",
    "scrolled": true
   },
   "outputs": [
    {
     "name": "stdout",
     "output_type": "stream",
     "text": [
      "Grupo de control - Canal PSD_C3: Estadístico de prueba=0.869, p=0.001\n",
      "Los datos del Canal PSD_C3 del grupo de control no parecen seguir una distribución normal (se rechaza la hipótesis nula)\n",
      "\n",
      "Grupo de control - Canal PSD_C1: Estadístico de prueba=0.875, p=0.001\n",
      "Los datos del Canal PSD_C1 del grupo de control no parecen seguir una distribución normal (se rechaza la hipótesis nula)\n",
      "\n",
      "Grupo de control - Canal PSD_CZ: Estadístico de prueba=0.835, p=0.000\n",
      "Los datos del Canal PSD_CZ del grupo de control no parecen seguir una distribución normal (se rechaza la hipótesis nula)\n",
      "\n",
      "Grupo de control - Canal PSD_C2: Estadístico de prueba=0.822, p=0.000\n",
      "Los datos del Canal PSD_C2 del grupo de control no parecen seguir una distribución normal (se rechaza la hipótesis nula)\n",
      "\n",
      "Grupo de control - Canal PSD_C4: Estadístico de prueba=0.827, p=0.000\n",
      "Los datos del Canal PSD_C4 del grupo de control no parecen seguir una distribución normal (se rechaza la hipótesis nula)\n",
      "\n",
      "Grupo de control - Canal PSD_O1: Estadístico de prueba=0.867, p=0.000\n",
      "Los datos del Canal PSD_O1 del grupo de control no parecen seguir una distribución normal (se rechaza la hipótesis nula)\n",
      "\n",
      "Grupo de control - Canal PSD_OZ: Estadístico de prueba=0.859, p=0.000\n",
      "Los datos del Canal PSD_OZ del grupo de control no parecen seguir una distribución normal (se rechaza la hipótesis nula)\n",
      "\n",
      "Grupo de control - Canal PSD_O2: Estadístico de prueba=0.837, p=0.000\n",
      "Los datos del Canal PSD_O2 del grupo de control no parecen seguir una distribución normal (se rechaza la hipótesis nula)\n",
      "\n"
     ]
    }
   ],
   "source": [
    "alpha_shapiro_ct = 0.05\n",
    "for col in df_controlC.columns: #Para cada columna presente en el dataframe de control\n",
    "    stat, p = shapiro(list(df_controlC[col])) #Implementación de la prueba Shapiro-Wilk\n",
    "    print(f'Grupo de control - Canal {col}: Estadístico de prueba={stat:.3f}, p={p:.3f}')\n",
    "    if p > alpha_shapiro_ct:\n",
    "        print(f'Los datos del Canal {col} del grupo de control parecen seguir una distribución normal (no se puede rechazar la hipótesis nula)\\n')\n",
    "    else:\n",
    "        print(f'Los datos del Canal {col} del grupo de control no parecen seguir una distribución normal (se rechaza la hipótesis nula)\\n')"
   ]
  },
  {
   "cell_type": "markdown",
   "id": "zHMs2Opk6X80",
   "metadata": {
    "id": "zHMs2Opk6X80"
   },
   "source": [
    "* Prueba de normalidad para la población con parkinson "
   ]
  },
  {
   "cell_type": "code",
   "execution_count": null,
   "id": "f2e29c4e",
   "metadata": {
    "id": "f2e29c4e",
    "outputId": "8ec1c82e-4831-4c0c-d8d9-5959ca1358c1"
   },
   "outputs": [
    {
     "name": "stdout",
     "output_type": "stream",
     "text": [
      "Grupo de control - Canal PSD_C3: Estadístico de prueba=0.913, p=0.047\n",
      "Los datos del Canal PSD_C3 del grupo de control no parecen seguir una distribución normal (se rechaza la hipótesis nula)\n",
      "\n",
      "Grupo de control - Canal PSD_C1: Estadístico de prueba=0.908, p=0.037\n",
      "Los datos del Canal PSD_C1 del grupo de control no parecen seguir una distribución normal (se rechaza la hipótesis nula)\n",
      "\n",
      "Grupo de control - Canal PSD_CZ: Estadístico de prueba=0.883, p=0.012\n",
      "Los datos del Canal PSD_CZ del grupo de control no parecen seguir una distribución normal (se rechaza la hipótesis nula)\n",
      "\n",
      "Grupo de control - Canal PSD_C2: Estadístico de prueba=0.890, p=0.016\n",
      "Los datos del Canal PSD_C2 del grupo de control no parecen seguir una distribución normal (se rechaza la hipótesis nula)\n",
      "\n",
      "Grupo de control - Canal PSD_C4: Estadístico de prueba=0.908, p=0.037\n",
      "Los datos del Canal PSD_C4 del grupo de control no parecen seguir una distribución normal (se rechaza la hipótesis nula)\n",
      "\n",
      "Grupo de control - Canal PSD_O1: Estadístico de prueba=0.918, p=0.061\n",
      "Los datos del Canal PSD_O1 del grupo de control parecen seguir una distribución normal (no se puede rechazar la hipótesis nula)\n",
      "\n",
      "Grupo de control - Canal PSD_OZ: Estadístico de prueba=0.919, p=0.065\n",
      "Los datos del Canal PSD_OZ del grupo de control parecen seguir una distribución normal (no se puede rechazar la hipótesis nula)\n",
      "\n",
      "Grupo de control - Canal PSD_O2: Estadístico de prueba=0.899, p=0.024\n",
      "Los datos del Canal PSD_O2 del grupo de control no parecen seguir una distribución normal (se rechaza la hipótesis nula)\n",
      "\n"
     ]
    }
   ],
   "source": [
    "alpha_shapiro_ct = 0.05\n",
    "for col in df_parkinsonC.columns: #Para cada columna presente en el dataframe de control\n",
    "    stat, p = shapiro(list(df_parkinsonC[col])) #Implementación de la prueba Shapiro-Wilk\n",
    "    print(f'Grupo de control - Canal {col}: Estadístico de prueba={stat:.3f}, p={p:.3f}')\n",
    "    if p > alpha_shapiro_ct:\n",
    "        print(f'Los datos del Canal {col} del grupo de control parecen seguir una distribución normal (no se puede rechazar la hipótesis nula)\\n')\n",
    "    else:\n",
    "        print(f'Los datos del Canal {col} del grupo de control no parecen seguir una distribución normal (se rechaza la hipótesis nula)\\n')"
   ]
  },
  {
   "cell_type": "markdown",
   "id": "OjUIOgon6fq1",
   "metadata": {
    "id": "OjUIOgon6fq1"
   },
   "source": [
    "Notese que los canales O1 y OZ siguen una distribución normal para el grupo de parkinson. "
   ]
  },
  {
   "cell_type": "markdown",
   "id": "f88ca8f8",
   "metadata": {
    "id": "f88ca8f8"
   },
   "source": [
    "### Pruebas de homocedasticidad\n",
    "---\n",
    "Para las pruebas de homocedasticidad haremos uso de la prueba de Levene. \n",
    "Se establece:\n",
    "\n",
    "Hipótesis nula (H0): La varianza poblacional es constante\n",
    "\n",
    "Hipótesis alternativa (H1): La varianza poblacional no es constante\n",
    "\n",
    "Nivel de significancia de 0.05"
   ]
  },
  {
   "cell_type": "code",
   "execution_count": null,
   "id": "0bbfe9d2",
   "metadata": {
    "id": "0bbfe9d2",
    "outputId": "2d54a215-4cbe-42c5-efbf-ae6f058bddff"
   },
   "outputs": [
    {
     "name": "stdout",
     "output_type": "stream",
     "text": [
      "Canal PSD_C3: Estadístico de prueba=1.514, p=0.224\n",
      "Las varianzas de los canales PSD_C3 parecen ser constantes entre los grupos (no se puede rechazar la hipótesis nula)\n",
      "\n",
      "Canal PSD_C1: Estadístico de prueba=1.211, p=0.276\n",
      "Las varianzas de los canales PSD_C1 parecen ser constantes entre los grupos (no se puede rechazar la hipótesis nula)\n",
      "\n",
      "Canal PSD_CZ: Estadístico de prueba=1.236, p=0.271\n",
      "Las varianzas de los canales PSD_CZ parecen ser constantes entre los grupos (no se puede rechazar la hipótesis nula)\n",
      "\n",
      "Canal PSD_C2: Estadístico de prueba=1.534, p=0.221\n",
      "Las varianzas de los canales PSD_C2 parecen ser constantes entre los grupos (no se puede rechazar la hipótesis nula)\n",
      "\n",
      "Canal PSD_C4: Estadístico de prueba=1.666, p=0.202\n",
      "Las varianzas de los canales PSD_C4 parecen ser constantes entre los grupos (no se puede rechazar la hipótesis nula)\n",
      "\n",
      "Canal PSD_O1: Estadístico de prueba=0.992, p=0.323\n",
      "Las varianzas de los canales PSD_O1 parecen ser constantes entre los grupos (no se puede rechazar la hipótesis nula)\n",
      "\n",
      "Canal PSD_OZ: Estadístico de prueba=0.865, p=0.356\n",
      "Las varianzas de los canales PSD_OZ parecen ser constantes entre los grupos (no se puede rechazar la hipótesis nula)\n",
      "\n",
      "Canal PSD_O2: Estadístico de prueba=0.473, p=0.494\n",
      "Las varianzas de los canales PSD_O2 parecen ser constantes entre los grupos (no se puede rechazar la hipótesis nula)\n",
      "\n"
     ]
    }
   ],
   "source": [
    "alpha_levene = 0.05\n",
    "for col in df_controlC.columns:\n",
    "    stat, p = levene(list(df_controlC[col]), list(df_parkinsonC[col]))#Implementación de la prueba levene\n",
    "    print(f'Canal {col}: Estadístico de prueba={stat:.3f}, p={p:.3f}')\n",
    "    if p > alpha_levene:\n",
    "        print(f'Las varianzas de los canales {col} parecen ser constantes entre los grupos (no se puede rechazar la hipótesis nula)\\n')\n",
    "    else:\n",
    "        print(f'Las varianzas de los canales {col} no parecen ser constantes entre los grupos (se rechaza la hipótesis nula)\\n')"
   ]
  },
  {
   "cell_type": "markdown",
   "id": "eOiI3Rh063CP",
   "metadata": {
    "id": "eOiI3Rh063CP"
   },
   "source": [
    "Al determinar que las varianzas entre los grupos de estudio parecen ser constantes y que en la prueba de normalidad la mayoria no tiene una distribución normal, se procede a realizar la prueba U de Mann Whitney la cual es el equivalente no parametrico de la prueba t entre dos muestras"
   ]
  },
  {
   "cell_type": "markdown",
   "id": "d7c07fa7",
   "metadata": {
    "id": "d7c07fa7"
   },
   "source": [
    "### Prueba U de Mann-Whitney\n",
    "---\n",
    "Para la prueba U de Mann-whitney se establece:\n",
    "\n",
    "Hipótesis nula (H0): No existe diferencia estadística entre canales de cada grupo de sujetos.\n",
    "\n",
    "Hipótesis alternativa (H1): Existe diferencia estadística entre canales de cada grupo de sujetos.\n",
    "\n",
    "Nivel de significancia de 0.05"
   ]
  },
  {
   "cell_type": "code",
   "execution_count": null,
   "id": "fe8de777",
   "metadata": {
    "colab": {
     "base_uri": "https://localhost:8080/"
    },
    "id": "fe8de777",
    "outputId": "2e2b32fe-171b-4f2b-f5a9-62ad0f1385ee"
   },
   "outputs": [
    {
     "name": "stdout",
     "output_type": "stream",
     "text": [
      "Canal PSD_C3: Estadístico U=484.000, p=0.280\n",
      "No se puede rechazar la hipótesis nula de que no existe diferencia estadística entre los datos del canal PSD_C3 de ambos grupos.\n",
      "\n",
      "Canal PSD_C1: Estadístico U=484.000, p=0.280\n",
      "No se puede rechazar la hipótesis nula de que no existe diferencia estadística entre los datos del canal PSD_C1 de ambos grupos.\n",
      "\n",
      "Canal PSD_CZ: Estadístico U=479.000, p=0.316\n",
      "No se puede rechazar la hipótesis nula de que no existe diferencia estadística entre los datos del canal PSD_CZ de ambos grupos.\n",
      "\n",
      "Canal PSD_C2: Estadístico U=475.000, p=0.347\n",
      "No se puede rechazar la hipótesis nula de que no existe diferencia estadística entre los datos del canal PSD_C2 de ambos grupos.\n",
      "\n",
      "Canal PSD_C4: Estadístico U=478.000, p=0.324\n",
      "No se puede rechazar la hipótesis nula de que no existe diferencia estadística entre los datos del canal PSD_C4 de ambos grupos.\n",
      "\n",
      "Canal PSD_O1: Estadístico U=445.000, p=0.635\n",
      "No se puede rechazar la hipótesis nula de que no existe diferencia estadística entre los datos del canal PSD_O1 de ambos grupos.\n",
      "\n",
      "Canal PSD_OZ: Estadístico U=430.000, p=0.810\n",
      "No se puede rechazar la hipótesis nula de que no existe diferencia estadística entre los datos del canal PSD_OZ de ambos grupos.\n",
      "\n",
      "Canal PSD_O2: Estadístico U=412.000, p=0.981\n",
      "No se puede rechazar la hipótesis nula de que no existe diferencia estadística entre los datos del canal PSD_O2 de ambos grupos.\n",
      "\n"
     ]
    }
   ],
   "source": [
    "alpha_u = 0.05\n",
    "for col in df_controlC.columns:\n",
    "    stat, p = mannwhitneyu(list(df_controlC[col]), list(df_parkinsonC[col]), alternative='two-sided')#Implementación de la prueba U de Mann-Whitney\n",
    "    print(f'Canal {col}: Estadístico U={stat:.3f}, p={p:.3f}')\n",
    "    if p > alpha_u:\n",
    "        print(f'No se puede rechazar la hipótesis nula de que no existe diferencia estadística entre los datos del canal {col} de ambos grupos.\\n')\n",
    "    else:\n",
    "        print(f'Se rechaza la hipótesis nula de que existe diferencia estadística entre los datos del canal {col} de ambos grupos.\\n')"
   ]
  },
  {
   "cell_type": "markdown",
   "id": "A36ZTdEY7he6",
   "metadata": {
    "id": "A36ZTdEY7he6"
   },
   "source": [
    "A partir de la prueba U realizada se establece que no hay diferencia significativa entre las muestras de las poblaciones evaluadas. Sin embargo, esto no quiere decir que sean datos iguales, sino que no existen suficientes evidencias para determinar que las medianas son significativamente diferentes. \n",
    "\n",
    "De esta manera, es necesario hacer una evaluación con más pacientes para rechazar la hipotesis nula y afirmar que las medianas son significativamente diferentes."
   ]
  }
 ],
 "metadata": {
  "colab": {
   "provenance": []
  },
  "kernelspec": {
   "display_name": "Python 3 (ipykernel)",
   "language": "python",
   "name": "python3"
  },
  "language_info": {
   "codemirror_mode": {
    "name": "ipython",
    "version": 3
   },
   "file_extension": ".py",
   "mimetype": "text/x-python",
   "name": "python",
   "nbconvert_exporter": "python",
   "pygments_lexer": "ipython3",
   "version": "3.9.13"
  }
 },
 "nbformat": 4,
 "nbformat_minor": 5
}
