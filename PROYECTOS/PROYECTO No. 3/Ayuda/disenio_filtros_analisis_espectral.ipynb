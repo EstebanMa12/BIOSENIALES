{
  "nbformat": 4,
  "nbformat_minor": 0,
  "metadata": {
    "kernelspec": {
      "display_name": "Python 3",
      "language": "python",
      "name": "python3"
    },
    "language_info": {
      "codemirror_mode": {
        "name": "ipython",
        "version": 3
      },
      "file_extension": ".py",
      "mimetype": "text/x-python",
      "name": "python",
      "nbconvert_exporter": "python",
      "pygments_lexer": "ipython3",
      "version": "3.6.4"
    },
    "colab": {
      "provenance": []
    }
  },
  "cells": [
    {
      "cell_type": "code",
      "metadata": {
        "id": "ia4qVRU7DAcL"
      },
      "source": [
        "import numpy as np;\n",
        "import scipy.signal as signal\n",
        "import matplotlib.pyplot as plt"
      ],
      "execution_count": null,
      "outputs": []
    },
    {
      "cell_type": "code",
      "metadata": {
        "id": "sTbSw_3gFGBg"
      },
      "source": [
        "from google.colab import drive\n",
        "drive.mount('/content/drive')"
      ],
      "execution_count": null,
      "outputs": []
    },
    {
      "cell_type": "code",
      "metadata": {
        "id": "2gNcKbA1DAcP"
      },
      "source": [
        "def firws(m, f , w , t = None):\n",
        "    \"\"\"\n",
        "    Designs windowed sinc type I linear phase FIR filter.\n",
        "    Parameters:        \n",
        "        m: filter order.\n",
        "        f: cutoff frequency/ies (-6 dB;pi rad / sample).\n",
        "        w: vector of length m + 1 defining window. \n",
        "        t: 'high' for highpass, 'stop' for bandstop filter. {default low-/bandpass}\n",
        "    Returns:\n",
        "        b: numpy.ndarray\n",
        "            filter coefficients \n",
        "    \"\"\"\n",
        "    f = np.squeeze(f)\n",
        "    f = f / 2; \n",
        "    w = np.squeeze(w)\n",
        "    if (f.ndim == 0): #low pass\n",
        "        b = fkernel(m, f, w)\n",
        "    else:\n",
        "        b = fkernel(m, f[0], w) #band\n",
        "    \n",
        "    if (f.ndim == 0) and (t == 'high'):\n",
        "        b = fspecinv(b)\n",
        "    elif (f.size == 2):\n",
        "        b = b + fspecinv(fkernel(m, f[1], w)) #reject\n",
        "        if t == None or (t != 'stop'):\n",
        "            b = fspecinv(b) #bandpass        \n",
        "    return b"
      ],
      "execution_count": null,
      "outputs": []
    },
    {
      "cell_type": "code",
      "metadata": {
        "id": "PnpsbKv_DAcR"
      },
      "source": [
        "# Compute filter kernel\n",
        "def fkernel(m, f, w):\n",
        "    m = np.arange(-m/2, (m/2)+1)\n",
        "    b = np.zeros((m.shape[0]))\n",
        "    b[m==0] = 2*np.pi*f # No division by zero\n",
        "    b[m!=0] = np.sin(2*np.pi*f*m[m!=0]) / m[m!=0] # Sinc\n",
        "    b = b * w # Windowing\n",
        "    b = b / np.sum(b) # Normalization to unity gain at DC\n",
        "    return b"
      ],
      "execution_count": null,
      "outputs": []
    },
    {
      "cell_type": "code",
      "metadata": {
        "id": "IvxJfb5SDAcR"
      },
      "source": [
        "## Spectral inversion\n",
        "def fspecinv(b):\n",
        "    b = -b\n",
        "    b[int((b.shape[0]-1)/2)] = b[int((b.shape[0]-1)/2)]+1\n",
        "    return b"
      ],
      "execution_count": null,
      "outputs": []
    },
    {
      "cell_type": "code",
      "metadata": {
        "id": "3y8O5pEhDAcS"
      },
      "source": [
        "#heuristics for band management\n",
        "def filter_design(srate, locutoff = 0, hicutoff = 0, revfilt = 0):\n",
        "    #Constants\n",
        "    TRANSWIDTHRATIO = 0.25;\n",
        "    fNyquist = srate/2;  \n",
        "    \n",
        "    #The prototipical filter is the low-pass, we design a low pass and transform it\n",
        "    if hicutoff == 0: #Convert highpass to inverted lowpass\n",
        "        hicutoff = locutoff\n",
        "        locutoff = 0\n",
        "        revfilt = 1 #invert the logic for low-pass to high-pass and for\n",
        "                    #band-pass to notch\n",
        "    if locutoff > 0 and hicutoff > 0:\n",
        "        edgeArray = np.array([locutoff , hicutoff])\n",
        "    else:\n",
        "        edgeArray = np.array([hicutoff]);\n",
        "    \n",
        "    #Not negative frequencies and not frequencies above Nyquist\n",
        "    if np.any(edgeArray<0) or np.any(edgeArray >= fNyquist):\n",
        "        print('Cutoff frequency out of range')\n",
        "        return False  \n",
        "    \n",
        "    # Max stop-band width\n",
        "    maxBWArray = edgeArray.copy() # Band-/highpass\n",
        "    if revfilt == 0: # Band-/lowpass\n",
        "        maxBWArray[-1] = fNyquist - edgeArray[-1];\n",
        "    elif len(edgeArray) == 2: # Bandstop\n",
        "        maxBWArray = np.diff(edgeArray) / 2;\n",
        "    maxDf = np.min(maxBWArray);\n",
        "    \n",
        "    # Default filter order heuristic\n",
        "    if revfilt == 1: # Highpass and bandstop\n",
        "        df = np.min([np.max([maxDf * TRANSWIDTHRATIO, 2]) , maxDf]);\n",
        "    else: # Lowpass and bandpass\n",
        "        df = np.min([np.max([edgeArray[0] * TRANSWIDTHRATIO, 2]) , maxDf]);\n",
        "    \n",
        "    print(df)\n",
        "    \n",
        "    filtorder = 3.3 / (df / srate); # Hamming window\n",
        "    filtorder = np.ceil(filtorder / 2) * 2; # Filter order must be even.\n",
        "    \n",
        "    # Passband edge to cutoff (transition band center; -6 dB)\n",
        "    dfArray = [[df, [-df, df]] , [-df, [df, -df]]];\n",
        "    cutoffArray = edgeArray + np.array(dfArray[revfilt][len(edgeArray) - 1]) / 2;\n",
        "    print('pop_eegfiltnew() - cutoff frequency(ies) (-6 dB): '+str(cutoffArray)+' Hz\\n');\n",
        "    # Window\n",
        "    winArray = signal.hamming(int(filtorder) + 1);\n",
        "    # Filter coefficients\n",
        "    if revfilt == 1:\n",
        "        filterTypeArray = ['high', 'stop'];\n",
        "        b = firws(filtorder, cutoffArray / fNyquist, winArray, filterTypeArray[len(edgeArray) - 1]);\n",
        "    else:\n",
        "        b = firws(filtorder, cutoffArray / fNyquist, winArray);\n",
        "\n",
        "    return filtorder, b; "
      ],
      "execution_count": null,
      "outputs": []
    },
    {
      "cell_type": "code",
      "metadata": {
        "id": "SghNg9X5DAcT"
      },
      "source": [
        "def mfreqz(b,a,order,nyq_rate = 1):\n",
        "    \n",
        "    \"\"\"\n",
        "    Plot the impulse response of the filter in the frequency domain\n",
        "\n",
        "    Parameters:\n",
        "        \n",
        "        b: numerator values of the transfer function (coefficients of the filter)\n",
        "        a: denominator values of the transfer function (coefficients of the filter)\n",
        "        \n",
        "        order: order of the filter \n",
        "                \n",
        "        nyq_rate = nyquist frequency\n",
        "    \"\"\"\n",
        "    \n",
        "    w,h = signal.freqz(b,a);\n",
        "    h_dB = 20 * np.log10 (abs(h));\n",
        "    \n",
        "    plt.figure();\n",
        "    plt.subplot(311);\n",
        "    plt.plot((w/max(w))*nyq_rate,abs(h));\n",
        "    plt.ylabel('Magnitude');\n",
        "    plt.xlabel(r'Normalized Frequency (x$\\pi$rad/sample)');\n",
        "    plt.title(r'Frequency response. Order: ' + str(order));\n",
        "    [xmin, xmax, ymin, ymax] = plt.axis();\n",
        "    \n",
        "    #plt.xlim((40,60))\n",
        "    \n",
        "    plt.grid(True);\n",
        "    \n",
        "    plt.subplot(312);\n",
        "    plt.plot((w/max(w))*nyq_rate,h_dB);\n",
        "    plt.ylabel('Magnitude (db)');\n",
        "    plt.xlabel(r'Normalized Frequency (x$\\pi$rad/sample)');\n",
        "    plt.title(r'Frequency response. Order: ' + str(order));\n",
        "    plt.grid(True)\n",
        "    plt.grid(True)\n",
        "    \n",
        "    \n",
        "    plt.subplot(313);\n",
        "    h_Phase = np.unwrap(np.arctan2(np.imag(h),np.real(h)));\n",
        "    plt.plot((w/max(w))*nyq_rate,h_Phase);\n",
        "    plt.ylabel('Phase (radians)');\n",
        "    plt.xlabel(r'Normalized Frequency (x$\\pi$rad/sample)');\n",
        "    plt.title(r'Phase response. Order: ' + str(order));\n",
        "    plt.subplots_adjust(hspace=0.5);\n",
        "    plt.grid(True)\n",
        "    plt.show()"
      ],
      "execution_count": null,
      "outputs": []
    },
    {
      "cell_type": "code",
      "source": [
        "#low pass filter 50Hz with order = 265 (for a transition band of 25%) and hamming window\n",
        "#fs = 1000\n",
        "b = fkernel(264, 50/1000, signal.hamming(int(264) + 1))\n",
        "plt.stem(b)\n",
        "\n",
        "mfreqz(b,1,264, 500);"
      ],
      "metadata": {
        "id": "7g3RXQ5k542_"
      },
      "execution_count": null,
      "outputs": []
    },
    {
      "cell_type": "code",
      "source": [
        "print(b)"
      ],
      "metadata": {
        "id": "nROCpGPN8oBl"
      },
      "execution_count": null,
      "outputs": []
    },
    {
      "cell_type": "code",
      "source": [
        "#high pass filter 5Hz with order = 265 (for a transition band of 25%) and hamming window\n",
        "from scipy import signal\n",
        "\n",
        "b = fkernel(264, 5/1000, signal.hamming(int(264) + 1))\n",
        "plt.subplot(3,1,1)\n",
        "plt.plot(b)\n",
        "\n",
        "delta = signal.unit_impulse(265,133)\n",
        "plt.subplot(3,1,2)\n",
        "plt.plot(delta)\n",
        "\n",
        "bhpf = delta - b\n",
        "plt.subplot(3,1,3)\n",
        "plt.plot(bhpf)\n",
        "\n",
        "mfreqz(bhpf,1,264, 500);"
      ],
      "metadata": {
        "id": "CzQUjHgVJ-zq"
      },
      "execution_count": null,
      "outputs": []
    },
    {
      "cell_type": "code",
      "metadata": {
        "id": "LdrZRMBiDAcV"
      },
      "source": [
        "fs = 250;\n",
        "#design\n",
        "order, lowpass = filter_design(fs, locutoff = 0, hicutoff = 50, revfilt = 0);\n",
        "plt.plot(lowpass)\n",
        "#plot\n",
        "mfreqz(lowpass,1,order, fs/2);"
      ],
      "execution_count": null,
      "outputs": []
    },
    {
      "cell_type": "code",
      "metadata": {
        "id": "TKGZ75CIDAcX"
      },
      "source": [
        "order, highpass = filter_design(fs, locutoff = 4, hicutoff = 0, revfilt = 1);\n",
        "plt.plot(highpass)\n",
        "#plot\n",
        "mfreqz(highpass,1,order, fs/2);"
      ],
      "execution_count": null,
      "outputs": []
    },
    {
      "cell_type": "code",
      "metadata": {
        "id": "mO5_4suKDAcZ"
      },
      "source": [
        "order, bandpass = filter_design(fs, locutoff = 4, hicutoff = 50, revfilt = 0);\n",
        "#plot\n",
        "mfreqz(bandpass,1,order, fs/2);"
      ],
      "execution_count": null,
      "outputs": []
    },
    {
      "cell_type": "code",
      "metadata": {
        "id": "0TlXfv0ZDAca"
      },
      "source": [
        "order, notch = filter_design(fs, locutoff = 50, hicutoff = 70, revfilt = 1);\n",
        "#plot\n",
        "mfreqz(notch,1,order, fs/2);"
      ],
      "execution_count": null,
      "outputs": []
    },
    {
      "cell_type": "code",
      "metadata": {
        "id": "2hgj82MfDAcb"
      },
      "source": [
        "#%%load signal and apply filter\n",
        "import scipy.io as sio;\n",
        "#carga de los datos\n",
        "mat_contents = sio.loadmat('/content/drive/Shareddrives/biosenales_sistemas/filtrado/senal_anestesia.mat')\n",
        "#los datos se cargan como un diccionario, se puede evaluar los campos que contiene\n",
        "print(\"Los campos cargados son: \" + str(mat_contents.keys()));\n",
        "#la senal esta en el campo data\n",
        "senal_org = mat_contents['data'];\n",
        "senal_org = senal_org[0,:];\n",
        "\n",
        "senal_filtrada_pasaaltas = signal.filtfilt(highpass, 1, senal_org);\n",
        "senal_filtrada_pasabajas = signal.filtfilt(lowpass, 1, senal_org);\n",
        "senal_filtrada_pasabanda = signal.filtfilt(bandpass, 1, senal_org);\n",
        "senal_filtrada_rechazabanda = signal.filtfilt(notch, 1, senal_org);\n",
        "\n",
        "plt.subplot(2,2,1);\n",
        "plt.plot(senal_org[0:250]);\n",
        "plt.plot(senal_filtrada_pasaaltas[0:250]);\n",
        "plt.title('Pasa-altas');\n",
        "plt.subplot(2,2,2);\n",
        "plt.plot(senal_org[0:250]);\n",
        "plt.plot(senal_filtrada_pasabajas[0:250]);\n",
        "plt.title('Pasa-bajas');\n",
        "plt.subplot(2,2,3);\n",
        "plt.plot(senal_org[0:250]);\n",
        "plt.plot(senal_filtrada_pasabanda[0:250]);\n",
        "plt.title('Pasa-banda');\n",
        "plt.subplot(2,2,4);\n",
        "plt.plot(senal_org[0:250]);\n",
        "plt.plot(senal_filtrada_rechazabanda[0:250]);\n",
        "plt.title('Rechaza-banda');\n",
        "\n",
        "plt.show();"
      ],
      "execution_count": null,
      "outputs": []
    },
    {
      "cell_type": "code",
      "metadata": {
        "id": "i2ikMMV4DAcc"
      },
      "source": [
        "import scipy.signal as pds\n",
        "\n",
        "f, Pxx = pds.welch(senal_org, fs, 'hann', fs*2, fs)\n",
        "plt.title('Espectro original');\n",
        "plt.plot(f, Pxx);\n",
        "plt.show()"
      ],
      "execution_count": null,
      "outputs": []
    },
    {
      "cell_type": "code",
      "metadata": {
        "id": "DFfl3JCjDAcc"
      },
      "source": [
        "f, Pxx = pds.welch(senal_filtrada_pasaaltas, fs, 'hann', fs*2, fs)\n",
        "plt.title('Espectro original - pasaaltas');\n",
        "plt.plot(f, Pxx);\n",
        "plt.show()"
      ],
      "execution_count": null,
      "outputs": []
    },
    {
      "cell_type": "code",
      "metadata": {
        "id": "DOxaOqj1DAcd"
      },
      "source": [
        "f, Pxx = pds.welch(senal_filtrada_pasabajas, fs, 'hann', fs*2, fs)\n",
        "plt.title('Espectro original - pasabajas');\n",
        "plt.stem(f, Pxx);\n",
        "plt.show()"
      ],
      "execution_count": null,
      "outputs": []
    },
    {
      "cell_type": "code",
      "metadata": {
        "id": "kkeYkbk4DAce"
      },
      "source": [
        "f, Pxx = pds.welch(senal_filtrada_rechazabanda, fs, 'hann', fs*2, fs)\n",
        "plt.title('Espectro original - rechazabandas');\n",
        "plt.plot(f, Pxx);\n",
        "plt.show()"
      ],
      "execution_count": null,
      "outputs": []
    },
    {
      "cell_type": "code",
      "metadata": {
        "id": "vz9i2xouDAcf"
      },
      "source": [
        "f, Pxx = pds.welch(senal_filtrada_pasabanda, fs, 'hann', fs*2, fs)\n",
        "plt.title('Espectro original - pasabanda');\n",
        "plt.stem(f, Pxx);\n",
        "plt.show()"
      ],
      "execution_count": null,
      "outputs": []
    },
    {
      "cell_type": "code",
      "metadata": {
        "id": "TWQ0WCCeDAcf"
      },
      "source": [
        "f, Pxx = pds.welch(senal_filtrada_pasabajas, fs, 'hann', fs*2, fs)\n",
        "plt.subplot(2,2,1);\n",
        "plt.title('Espectro original - pasaaltas');\n",
        "plt.xlim([0,50]);\n",
        "plt.plot(f, Pxx);\n",
        "\n",
        "f, Pxx = pds.welch(senal_filtrada_pasabajas, fs, 'hann', fs*4, fs*2)\n",
        "plt.subplot(2,2,2);\n",
        "plt.title('Espectro original - pasaaltas');\n",
        "plt.xlim([0,50]);\n",
        "plt.plot(f, Pxx);\n",
        "\n",
        "f, Pxx = pds.welch(senal_filtrada_pasabajas, fs, 'hann', fs*8, fs*4)\n",
        "plt.subplot(2,2,3);\n",
        "plt.title('Espectro original - pasaaltas');\n",
        "plt.xlim([0,50]);\n",
        "plt.plot(f, Pxx);\n",
        "\n",
        "f, Pxx = pds.welch(senal_filtrada_pasabajas, fs, 'hann', fs*10, fs*5)\n",
        "plt.subplot(2,2,4);\n",
        "plt.title('Espectro original - pasaaltas');\n",
        "plt.plot(f, Pxx);\n",
        "plt.xlim([0,50]);\n",
        "plt.show()"
      ],
      "execution_count": null,
      "outputs": []
    },
    {
      "cell_type": "code",
      "metadata": {
        "id": "KKziXwtnDAcf"
      },
      "source": [],
      "execution_count": null,
      "outputs": []
    }
  ]
}