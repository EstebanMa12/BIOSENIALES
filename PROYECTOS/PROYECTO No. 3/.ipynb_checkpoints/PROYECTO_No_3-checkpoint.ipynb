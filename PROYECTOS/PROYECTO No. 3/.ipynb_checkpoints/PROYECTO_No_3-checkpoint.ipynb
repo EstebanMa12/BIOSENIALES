{
 "cells": [
  {
   "cell_type": "code",
   "execution_count": 1,
   "metadata": {},
   "outputs": [
    {
     "ename": "ModuleNotFoundError",
     "evalue": "No module named 'librosa'",
     "output_type": "error",
     "traceback": [
      "\u001b[1;31m---------------------------------------------------------------------------\u001b[0m",
      "\u001b[1;31mModuleNotFoundError\u001b[0m                       Traceback (most recent call last)",
      "\u001b[1;32m~\\AppData\\Local\\Temp\\ipykernel_14108\\1935236734.py\u001b[0m in \u001b[0;36m<module>\u001b[1;34m\u001b[0m\n\u001b[0;32m      1\u001b[0m \u001b[1;32mimport\u001b[0m \u001b[0mnumpy\u001b[0m \u001b[1;32mas\u001b[0m \u001b[0mnp\u001b[0m\u001b[1;33m\u001b[0m\u001b[1;33m\u001b[0m\u001b[0m\n\u001b[1;32m----> 2\u001b[1;33m \u001b[1;32mimport\u001b[0m \u001b[0mlibrosa\u001b[0m\u001b[1;33m\u001b[0m\u001b[1;33m\u001b[0m\u001b[0m\n\u001b[0m",
      "\u001b[1;31mModuleNotFoundError\u001b[0m: No module named 'librosa'"
     ]
    }
   ],
   "source": [
    "import numpy as np\n",
    "import librosa\n"
   ]
  },
  {
   "cell_type": "code",
   "execution_count": 12,
   "metadata": {},
   "outputs": [
    {
     "data": {
      "text/plain": [
       "array([[ 0.036,  0.579,  0.   ,  0.   ],\n",
       "       [ 0.579,  2.45 ,  0.   ,  0.   ],\n",
       "       [ 2.45 ,  3.893,  0.   ,  0.   ],\n",
       "       [ 3.893,  5.793,  0.   ,  0.   ],\n",
       "       [ 5.793,  7.521,  0.   ,  0.   ],\n",
       "       [ 7.521,  9.279,  0.   ,  0.   ],\n",
       "       [ 9.279, 11.15 ,  0.   ,  0.   ],\n",
       "       [11.15 , 13.036,  0.   ,  0.   ],\n",
       "       [13.036, 14.721,  0.   ,  0.   ],\n",
       "       [14.721, 16.707,  0.   ,  0.   ],\n",
       "       [16.707, 18.507,  0.   ,  0.   ],\n",
       "       [18.507, 19.964,  0.   ,  0.   ]])"
      ]
     },
     "execution_count": 12,
     "metadata": {},
     "output_type": "execute_result"
    }
   ],
   "source": [
    "base= 'data/Respiratory_Sound_Database/audio_and_txt_files/'\n",
    "np.loadtxt(base+'101_1b1_Al_sc_Meditron.txt')"
   ]
  },
  {
   "cell_type": "markdown",
   "metadata": {
    "id": "-MLr_ozC7f4f"
   },
   "source": [
    " ### 1. Crear una función que reciba la ruta de un archivo de audio y la ruta del archivo de anotaciones y extraiga del archivo de audio los ciclos respiratorios con su respectiva anotación de estertores y sibilancias"
   ]
  },
  {
   "cell_type": "code",
   "execution_count": 14,
   "metadata": {},
   "outputs": [
    {
     "ename": "ModuleNotFoundError",
     "evalue": "No module named 'librosa'",
     "output_type": "error",
     "traceback": [
      "\u001b[1;31m---------------------------------------------------------------------------\u001b[0m",
      "\u001b[1;31mModuleNotFoundError\u001b[0m                       Traceback (most recent call last)",
      "\u001b[1;32m~\\AppData\\Local\\Temp\\ipykernel_12416\\4154100394.py\u001b[0m in \u001b[0;36m<module>\u001b[1;34m\u001b[0m\n\u001b[0;32m      1\u001b[0m \u001b[1;34m'los archivos txt guardan la información en la siguiente sintaxis [Start, End, Crackles, Wheezes]'\u001b[0m\u001b[1;33m\u001b[0m\u001b[1;33m\u001b[0m\u001b[0m\n\u001b[1;32m----> 2\u001b[1;33m \u001b[1;32mimport\u001b[0m \u001b[0mlibrosa\u001b[0m\u001b[1;33m\u001b[0m\u001b[1;33m\u001b[0m\u001b[0m\n\u001b[0m\u001b[0;32m      3\u001b[0m \u001b[1;33m\u001b[0m\u001b[0m\n\u001b[0;32m      4\u001b[0m \u001b[1;32mdef\u001b[0m \u001b[0mxtractCicles\u001b[0m\u001b[1;33m(\u001b[0m\u001b[0mruta_audio\u001b[0m\u001b[1;33m,\u001b[0m\u001b[0mruta_anot\u001b[0m\u001b[1;33m)\u001b[0m\u001b[1;33m:\u001b[0m\u001b[1;33m\u001b[0m\u001b[1;33m\u001b[0m\u001b[0m\n\u001b[0;32m      5\u001b[0m     \u001b[0mbase\u001b[0m\u001b[1;33m=\u001b[0m\u001b[1;34m'data/Respiratory_Sound_Database/audio_and_txt_files/'\u001b[0m\u001b[1;33m\u001b[0m\u001b[1;33m\u001b[0m\u001b[0m\n",
      "\u001b[1;31mModuleNotFoundError\u001b[0m: No module named 'librosa'"
     ]
    }
   ],
   "source": [
    "'los archivos txt guardan la información en la siguiente sintaxis [Start, End, Crackles, Wheezes]'\n",
    "import librosa\n",
    "\n",
    "def xtractCicles(ruta_audio,ruta_anot):\n",
    "    base='data/Respiratory_Sound_Database/audio_and_txt_files/'\n",
    "    signal,fs=librosa.load(base+ruta_audio)\n",
    "\n",
    "    #leer las anotaciones de los ciclos respiratorios\n",
    "    anotaciones=np.loadtxt(base+ruta_anot)\n",
    "    ciclos_respiratorios=[]\n",
    "    for anotacion in anotaciones:\n",
    "        Start, End, Crackles, Wheezes=anotacion.strip().split(',')\n",
    "\n",
    "        inicio=float(Start)\n",
    "        fin=float(End)\n",
    "\n",
    "        inicio_muestra=int(inicio*fs)\n",
    "        fin_muestra=int(fin*fs)\n",
    "\n",
    "        #Extraer el ciclo respiratorio \n",
    "        ciclo_respiratorio=signal[inicio_muestra:fin_muestra]\n",
    "\n",
    "        ciclos_respiratorios.append({\n",
    "            'ciclo_respiratorio': ciclo_respiratorio,\n",
    "            'estertores': Crackles,\n",
    "            'sibilancias': Wheezes\n",
    "        })\n",
    "return ciclos_respiratorios\n"
   ]
  },
  {
   "cell_type": "code",
   "execution_count": null,
   "metadata": {},
   "outputs": [],
   "source": []
  },
  {
   "cell_type": "markdown",
   "metadata": {
    "id": "4K1z2URu8RAm"
   },
   "source": [
    "### 2. Diseñar los filtros FIR para señales de auscultación justificando los rangos definidos, el ancho de banda de transición, el orden que permiten las longitudes de las señales, el tipo de ventana seleccionado\n"
   ]
  },
  {
   "cell_type": "markdown",
   "metadata": {
    "id": "tmInwc7A8eGW"
   },
   "source": [
    "### 3.  Adaptar el código entregado en clase para construir un filtro wavelet para eliminar los ruidos cardiacos"
   ]
  },
  {
   "cell_type": "markdown",
   "metadata": {
    "id": "NOAMUb358mx3"
   },
   "source": [
    "### 4.   Crear una función que permita el preprocesamiento de la señal usando los filtros previos"
   ]
  },
  {
   "cell_type": "code",
   "execution_count": null,
   "metadata": {
    "id": "yhlYDzLl7bXH"
   },
   "outputs": [],
   "source": []
  }
 ],
 "metadata": {
  "colab": {
   "provenance": []
  },
  "kernelspec": {
   "display_name": "Python 3 (ipykernel)",
   "language": "python",
   "name": "python3"
  },
  "language_info": {
   "codemirror_mode": {
    "name": "ipython",
    "version": 3
   },
   "file_extension": ".py",
   "mimetype": "text/x-python",
   "name": "python",
   "nbconvert_exporter": "python",
   "pygments_lexer": "ipython3",
   "version": "3.9.13"
  }
 },
 "nbformat": 4,
 "nbformat_minor": 1
}
